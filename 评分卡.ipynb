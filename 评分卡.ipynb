{
 "cells": [
  {
   "cell_type": "code",
   "execution_count": 1,
   "metadata": {},
   "outputs": [],
   "source": [
    "import numpy as np\n",
    "import pandas as pd \n",
    "import matplotlib.pyplot as plt"
   ]
  },
  {
   "cell_type": "markdown",
   "metadata": {},
   "source": [
    "# 找出违约的Y"
   ]
  },
  {
   "cell_type": "markdown",
   "metadata": {},
   "source": [
    "### 确定阶段M"
   ]
  },
  {
   "cell_type": "markdown",
   "metadata": {},
   "source": [
    "用户逾期详情表"
   ]
  },
  {
   "cell_type": "code",
   "execution_count": 2,
   "metadata": {},
   "outputs": [],
   "source": [
    "df_Credit=pd.read_csv('F:/temdata/data/CreditSampleWindow.csv')"
   ]
  },
  {
   "cell_type": "code",
   "execution_count": 3,
   "metadata": {},
   "outputs": [
    {
     "data": {
      "text/html": [
       "<div>\n",
       "<style scoped>\n",
       "    .dataframe tbody tr th:only-of-type {\n",
       "        vertical-align: middle;\n",
       "    }\n",
       "\n",
       "    .dataframe tbody tr th {\n",
       "        vertical-align: top;\n",
       "    }\n",
       "\n",
       "    .dataframe thead th {\n",
       "        text-align: right;\n",
       "    }\n",
       "</style>\n",
       "<table border=\"1\" class=\"dataframe\">\n",
       "  <thead>\n",
       "    <tr style=\"text-align: right;\">\n",
       "      <th></th>\n",
       "      <th>CID</th>\n",
       "      <th>STAGE_BEF</th>\n",
       "      <th>STAGE_AFT</th>\n",
       "      <th>START_DATE</th>\n",
       "      <th>CLOSE_DATE</th>\n",
       "    </tr>\n",
       "  </thead>\n",
       "  <tbody>\n",
       "    <tr>\n",
       "      <th>0</th>\n",
       "      <td>CID0128273</td>\n",
       "      <td></td>\n",
       "      <td>M0</td>\n",
       "      <td>20170701.0</td>\n",
       "      <td>20170703.0</td>\n",
       "    </tr>\n",
       "    <tr>\n",
       "      <th>1</th>\n",
       "      <td>CID0214787</td>\n",
       "      <td></td>\n",
       "      <td>M0</td>\n",
       "      <td>20180201.0</td>\n",
       "      <td>20180204.0</td>\n",
       "    </tr>\n",
       "    <tr>\n",
       "      <th>2</th>\n",
       "      <td>CID0287932</td>\n",
       "      <td>M4</td>\n",
       "      <td>M5</td>\n",
       "      <td>20180501.0</td>\n",
       "      <td>20180531.0</td>\n",
       "    </tr>\n",
       "    <tr>\n",
       "      <th>3</th>\n",
       "      <td>CID0351850</td>\n",
       "      <td></td>\n",
       "      <td>M0</td>\n",
       "      <td>20161002.0</td>\n",
       "      <td>20161005.0</td>\n",
       "    </tr>\n",
       "    <tr>\n",
       "      <th>4</th>\n",
       "      <td>CID0217310</td>\n",
       "      <td></td>\n",
       "      <td>M0</td>\n",
       "      <td>20150601.0</td>\n",
       "      <td>20150602.0</td>\n",
       "    </tr>\n",
       "  </tbody>\n",
       "</table>\n",
       "</div>"
      ],
      "text/plain": [
       "          CID STAGE_BEF STAGE_AFT  START_DATE  CLOSE_DATE\n",
       "0  CID0128273                  M0  20170701.0  20170703.0\n",
       "1  CID0214787                  M0  20180201.0  20180204.0\n",
       "2  CID0287932        M4        M5  20180501.0  20180531.0\n",
       "3  CID0351850                  M0  20161002.0  20161005.0\n",
       "4  CID0217310                  M0  20150601.0  20150602.0"
      ]
     },
     "execution_count": 3,
     "metadata": {},
     "output_type": "execute_result"
    }
   ],
   "source": [
    "df_Credit.head()"
   ]
  },
  {
   "cell_type": "code",
   "execution_count": null,
   "metadata": {},
   "outputs": [],
   "source": [
    "df_Credit.START_DATE=pd.to_datetime(df_Credit.START_DATE)\n",
    "df_Credit.CLOSE_DATE=pd.to_datetime(df_Credit.CLOSE_DATE)"
   ]
  },
  {
   "cell_type": "code",
   "execution_count": 45,
   "metadata": {},
   "outputs": [
    {
     "name": "stdout",
     "output_type": "stream",
     "text": [
      "<class 'pandas.core.frame.DataFrame'>\n",
      "RangeIndex: 1813157 entries, 0 to 1813156\n",
      "Data columns (total 5 columns):\n",
      "CID           object\n",
      "STAGE_BEF     object\n",
      "STAGE_AFT     object\n",
      "START_DATE    datetime64[ns]\n",
      "CLOSE_DATE    datetime64[ns]\n",
      "dtypes: datetime64[ns](2), object(3)\n",
      "memory usage: 69.2+ MB\n"
     ]
    }
   ],
   "source": [
    "df_Credit.info()"
   ]
  },
  {
   "cell_type": "code",
   "execution_count": 29,
   "metadata": {},
   "outputs": [
    {
     "data": {
      "text/plain": [
       "(1813157, 5)"
      ]
     },
     "execution_count": 29,
     "metadata": {},
     "output_type": "execute_result"
    }
   ],
   "source": [
    "df_Credit.shape"
   ]
  },
  {
   "cell_type": "code",
   "execution_count": 4,
   "metadata": {},
   "outputs": [
    {
     "data": {
      "text/plain": [
       "CID           0.000000\n",
       "STAGE_BEF     0.082451\n",
       "STAGE_AFT     0.082451\n",
       "START_DATE    0.082451\n",
       "CLOSE_DATE    0.082451\n",
       "dtype: float64"
      ]
     },
     "execution_count": 4,
     "metadata": {},
     "output_type": "execute_result"
    }
   ],
   "source": [
    "df_Credit.isnull().sum()/df_Credit.shape[0]"
   ]
  },
  {
   "cell_type": "markdown",
   "metadata": {},
   "source": [
    "缺失比例一致说明是没有逾期的流水"
   ]
  },
  {
   "cell_type": "code",
   "execution_count": 5,
   "metadata": {},
   "outputs": [
    {
     "data": {
      "text/plain": [
       "(1813157, 5)"
      ]
     },
     "execution_count": 5,
     "metadata": {},
     "output_type": "execute_result"
    }
   ],
   "source": [
    "#数据从业务意义上来讲，不允许重复，删除重复行\n",
    "df_Credit.drop_duplicates(inplace=True)\n",
    "df_Credit.shape"
   ]
  },
  {
   "cell_type": "markdown",
   "metadata": {},
   "source": [
    "CID:用户ID,每逾期一次，id出现一次    \n",
    "STAGE_BEF:本阶段前的逾期阶段，有空值和空格，需要参考后边日期处理，空值是指没有过违规行为，空格是指之前没有，但本阶段开始违约。       \n",
    "STAGE_AFT:本阶段进入的逾期阶段，有空值，是没有违约过的。 \n",
    "START_DATE:进入本阶段时间,有空值，是没有违约过的    \n",
    "CLOSE_DATE:本阶段结束时间，有空值，是没有违约过的    \n",
    "M0: 逾期 0-3 天   \n",
    "M1: 逾期 3-30 天  \n",
    "M2: 逾期 30-60 天  \n",
    "M3: 逾期 60-90 天  \n",
    "以此类推       "
   ]
  },
  {
   "cell_type": "code",
   "execution_count": 6,
   "metadata": {},
   "outputs": [
    {
     "data": {
      "text/plain": [
       "(1663660, 5)"
      ]
     },
     "execution_count": 6,
     "metadata": {},
     "output_type": "execute_result"
    }
   ],
   "source": [
    "# 去除没有逾期阶段记录的信息\n",
    "df_Credit.dropna(subset=['STAGE_BEF','STAGE_AFT'], inplace=True)\n",
    "df_Credit.shape"
   ]
  },
  {
   "cell_type": "markdown",
   "metadata": {},
   "source": [
    "取每个 ID 每个月份内的最高逾期记录作为该月份的逾期指标，记录中只有从低阶段到高阶段的记\n",
    "录，因此用 _AFT 字段作为该月的指标。"
   ]
  },
  {
   "cell_type": "code",
   "execution_count": 7,
   "metadata": {},
   "outputs": [],
   "source": [
    "#提取月份信息\n",
    "df_Credit[\"START_MONTH\"] = df_Credit.START_DATE.apply(lambda x: int(x//100))\n",
    "df_Credit[\"CLOSE_MONTH\"] = df_Credit.CLOSE_DATE.apply(lambda x: int(x//100))"
   ]
  },
  {
   "cell_type": "code",
   "execution_count": 8,
   "metadata": {},
   "outputs": [],
   "source": [
    "#提取阶段信息\n",
    "df_Credit[\"AFT_FLAG\"] = df_Credit.STAGE_AFT.apply(lambda x: int(x[-1]))"
   ]
  },
  {
   "cell_type": "code",
   "execution_count": 9,
   "metadata": {},
   "outputs": [
    {
     "data": {
      "text/html": [
       "<div>\n",
       "<style scoped>\n",
       "    .dataframe tbody tr th:only-of-type {\n",
       "        vertical-align: middle;\n",
       "    }\n",
       "\n",
       "    .dataframe tbody tr th {\n",
       "        vertical-align: top;\n",
       "    }\n",
       "\n",
       "    .dataframe thead th {\n",
       "        text-align: right;\n",
       "    }\n",
       "</style>\n",
       "<table border=\"1\" class=\"dataframe\">\n",
       "  <thead>\n",
       "    <tr style=\"text-align: right;\">\n",
       "      <th></th>\n",
       "      <th>CID</th>\n",
       "      <th>STAGE_BEF</th>\n",
       "      <th>STAGE_AFT</th>\n",
       "      <th>START_DATE</th>\n",
       "      <th>CLOSE_DATE</th>\n",
       "      <th>START_MONTH</th>\n",
       "      <th>CLOSE_MONTH</th>\n",
       "      <th>AFT_FLAG</th>\n",
       "    </tr>\n",
       "  </thead>\n",
       "  <tbody>\n",
       "    <tr>\n",
       "      <th>0</th>\n",
       "      <td>CID0128273</td>\n",
       "      <td></td>\n",
       "      <td>M0</td>\n",
       "      <td>20170701.0</td>\n",
       "      <td>20170703.0</td>\n",
       "      <td>201707</td>\n",
       "      <td>201707</td>\n",
       "      <td>0</td>\n",
       "    </tr>\n",
       "    <tr>\n",
       "      <th>1</th>\n",
       "      <td>CID0214787</td>\n",
       "      <td></td>\n",
       "      <td>M0</td>\n",
       "      <td>20180201.0</td>\n",
       "      <td>20180204.0</td>\n",
       "      <td>201802</td>\n",
       "      <td>201802</td>\n",
       "      <td>0</td>\n",
       "    </tr>\n",
       "    <tr>\n",
       "      <th>2</th>\n",
       "      <td>CID0287932</td>\n",
       "      <td>M4</td>\n",
       "      <td>M5</td>\n",
       "      <td>20180501.0</td>\n",
       "      <td>20180531.0</td>\n",
       "      <td>201805</td>\n",
       "      <td>201805</td>\n",
       "      <td>5</td>\n",
       "    </tr>\n",
       "    <tr>\n",
       "      <th>3</th>\n",
       "      <td>CID0351850</td>\n",
       "      <td></td>\n",
       "      <td>M0</td>\n",
       "      <td>20161002.0</td>\n",
       "      <td>20161005.0</td>\n",
       "      <td>201610</td>\n",
       "      <td>201610</td>\n",
       "      <td>0</td>\n",
       "    </tr>\n",
       "    <tr>\n",
       "      <th>4</th>\n",
       "      <td>CID0217310</td>\n",
       "      <td></td>\n",
       "      <td>M0</td>\n",
       "      <td>20150601.0</td>\n",
       "      <td>20150602.0</td>\n",
       "      <td>201506</td>\n",
       "      <td>201506</td>\n",
       "      <td>0</td>\n",
       "    </tr>\n",
       "  </tbody>\n",
       "</table>\n",
       "</div>"
      ],
      "text/plain": [
       "          CID STAGE_BEF STAGE_AFT  START_DATE  CLOSE_DATE  START_MONTH  \\\n",
       "0  CID0128273                  M0  20170701.0  20170703.0       201707   \n",
       "1  CID0214787                  M0  20180201.0  20180204.0       201802   \n",
       "2  CID0287932        M4        M5  20180501.0  20180531.0       201805   \n",
       "3  CID0351850                  M0  20161002.0  20161005.0       201610   \n",
       "4  CID0217310                  M0  20150601.0  20150602.0       201506   \n",
       "\n",
       "   CLOSE_MONTH  AFT_FLAG  \n",
       "0       201707         0  \n",
       "1       201802         0  \n",
       "2       201805         5  \n",
       "3       201610         0  \n",
       "4       201506         0  "
      ]
     },
     "execution_count": 9,
     "metadata": {},
     "output_type": "execute_result"
    }
   ],
   "source": [
    "df_Credit.head()"
   ]
  },
  {
   "cell_type": "code",
   "execution_count": 11,
   "metadata": {
    "collapsed": true
   },
   "outputs": [
    {
     "data": {
      "text/plain": [
       "0          28364\n",
       "201802     82058\n",
       "201803    113132\n",
       "201801     86811\n",
       "201804     87754\n",
       "201805     96959\n",
       "201506      4780\n",
       "201507      7541\n",
       "201504      1847\n",
       "201505      3807\n",
       "201510     14021\n",
       "201511     14733\n",
       "201508      8513\n",
       "201509     10437\n",
       "201512     19321\n",
       "201503      1231\n",
       "201702     44791\n",
       "201703     62956\n",
       "201701     45879\n",
       "201706     53745\n",
       "201707     65599\n",
       "201704     47828\n",
       "201705     59899\n",
       "201710     75386\n",
       "201711     71327\n",
       "201708     60008\n",
       "201709     65008\n",
       "201712     90765\n",
       "201602     19493\n",
       "201603     24377\n",
       "201601     18860\n",
       "201606     23615\n",
       "201607     31242\n",
       "201604     21096\n",
       "201605     25883\n",
       "201610     37562\n",
       "201611     35642\n",
       "201608     30939\n",
       "201609     30716\n",
       "201612     39735\n",
       "Name: CLOSE_MONTH, dtype: int64"
      ]
     },
     "execution_count": 11,
     "metadata": {},
     "output_type": "execute_result"
    }
   ],
   "source": [
    "#df_Credit.START_MONTH.value_counts(sort=False,dropna=False)\n",
    "df_Credit.CLOSE_MONTH.value_counts(sort=False,dropna=False)"
   ]
  },
  {
   "cell_type": "code",
   "execution_count": 12,
   "metadata": {},
   "outputs": [],
   "source": [
    "# 将 CLOSE_DATE 为空的数据填补为 201805，取值的时候还没有结束。（根据数据缺失的业务背景确定）\n",
    "df_Credit.loc[df_Credit.CLOSE_MONTH == 0,\"CLOSE_MONTH\"] = 201805"
   ]
  },
  {
   "cell_type": "markdown",
   "metadata": {},
   "source": [
    "生成单个订单的流水"
   ]
  },
  {
   "cell_type": "code",
   "execution_count": 14,
   "metadata": {},
   "outputs": [],
   "source": [
    " # 提取 ID、月份、月份对应状态作为新的数据\n",
    "#这个月的开始即上个月的结束，故将元数据拆分成两部分合并\n",
    "#这样做主要解决的是如M0和M1发生在同一个月，那么就取最大的那个值\n",
    "overdue_1= df_Credit.loc[:,[\"CID\",\"START_MONTH\",\"AFT_FLAG\"]]\\\n",
    "    .rename(columns={\"START_MONTH\":\"CLOSE_MONTH\"})\\\n",
    "    .append(df_Credit.loc[:,[\"CID\",\"CLOSE_MONTH\",\"AFT_FLAG\"]],\n",
    "    ignore_index=True)"
   ]
  },
  {
   "cell_type": "code",
   "execution_count": 15,
   "metadata": {},
   "outputs": [],
   "source": [
    "# 生成每个订单的逾期信息\n",
    "#只保留当月最高记录\n",
    "overdue = overdue_1.sort_values(by=[\"CID\",\"CLOSE_MONTH\",\"AFT_FLAG\"])\\\n",
    "    .drop_duplicates(subset=[\"CID\",\"CLOSE_MONTH\"],keep=\"last\")\\#重复项中保留最后一次记录\n",
    "    .set_index([\"CID\",\"CLOSE_MONTH\"]).unstack(1)#长表变宽表"
   ]
  },
  {
   "cell_type": "code",
   "execution_count": 19,
   "metadata": {},
   "outputs": [
    {
     "data": {
      "text/html": [
       "<div>\n",
       "<style scoped>\n",
       "    .dataframe tbody tr th:only-of-type {\n",
       "        vertical-align: middle;\n",
       "    }\n",
       "\n",
       "    .dataframe tbody tr th {\n",
       "        vertical-align: top;\n",
       "    }\n",
       "\n",
       "    .dataframe thead th {\n",
       "        text-align: right;\n",
       "    }\n",
       "</style>\n",
       "<table border=\"1\" class=\"dataframe\">\n",
       "  <thead>\n",
       "    <tr style=\"text-align: right;\">\n",
       "      <th>CLOSE_MONTH</th>\n",
       "      <th>201503</th>\n",
       "      <th>201504</th>\n",
       "      <th>201505</th>\n",
       "      <th>201506</th>\n",
       "      <th>201507</th>\n",
       "      <th>201508</th>\n",
       "      <th>201509</th>\n",
       "      <th>201510</th>\n",
       "      <th>201511</th>\n",
       "      <th>201512</th>\n",
       "      <th>...</th>\n",
       "      <th>201708</th>\n",
       "      <th>201709</th>\n",
       "      <th>201710</th>\n",
       "      <th>201711</th>\n",
       "      <th>201712</th>\n",
       "      <th>201801</th>\n",
       "      <th>201802</th>\n",
       "      <th>201803</th>\n",
       "      <th>201804</th>\n",
       "      <th>201805</th>\n",
       "    </tr>\n",
       "    <tr>\n",
       "      <th>CID</th>\n",
       "      <th></th>\n",
       "      <th></th>\n",
       "      <th></th>\n",
       "      <th></th>\n",
       "      <th></th>\n",
       "      <th></th>\n",
       "      <th></th>\n",
       "      <th></th>\n",
       "      <th></th>\n",
       "      <th></th>\n",
       "      <th></th>\n",
       "      <th></th>\n",
       "      <th></th>\n",
       "      <th></th>\n",
       "      <th></th>\n",
       "      <th></th>\n",
       "      <th></th>\n",
       "      <th></th>\n",
       "      <th></th>\n",
       "      <th></th>\n",
       "      <th></th>\n",
       "    </tr>\n",
       "  </thead>\n",
       "  <tbody>\n",
       "    <tr>\n",
       "      <th>CID0000000</th>\n",
       "      <td>NaN</td>\n",
       "      <td>NaN</td>\n",
       "      <td>NaN</td>\n",
       "      <td>NaN</td>\n",
       "      <td>NaN</td>\n",
       "      <td>NaN</td>\n",
       "      <td>NaN</td>\n",
       "      <td>NaN</td>\n",
       "      <td>NaN</td>\n",
       "      <td>NaN</td>\n",
       "      <td>...</td>\n",
       "      <td>NaN</td>\n",
       "      <td>NaN</td>\n",
       "      <td>NaN</td>\n",
       "      <td>NaN</td>\n",
       "      <td>NaN</td>\n",
       "      <td>NaN</td>\n",
       "      <td>NaN</td>\n",
       "      <td>NaN</td>\n",
       "      <td>NaN</td>\n",
       "      <td>NaN</td>\n",
       "    </tr>\n",
       "    <tr>\n",
       "      <th>CID0000001</th>\n",
       "      <td>NaN</td>\n",
       "      <td>NaN</td>\n",
       "      <td>NaN</td>\n",
       "      <td>NaN</td>\n",
       "      <td>NaN</td>\n",
       "      <td>NaN</td>\n",
       "      <td>NaN</td>\n",
       "      <td>0.0</td>\n",
       "      <td>NaN</td>\n",
       "      <td>0.0</td>\n",
       "      <td>...</td>\n",
       "      <td>NaN</td>\n",
       "      <td>NaN</td>\n",
       "      <td>NaN</td>\n",
       "      <td>NaN</td>\n",
       "      <td>NaN</td>\n",
       "      <td>NaN</td>\n",
       "      <td>NaN</td>\n",
       "      <td>NaN</td>\n",
       "      <td>NaN</td>\n",
       "      <td>NaN</td>\n",
       "    </tr>\n",
       "    <tr>\n",
       "      <th>CID0000003</th>\n",
       "      <td>NaN</td>\n",
       "      <td>NaN</td>\n",
       "      <td>NaN</td>\n",
       "      <td>NaN</td>\n",
       "      <td>NaN</td>\n",
       "      <td>NaN</td>\n",
       "      <td>NaN</td>\n",
       "      <td>NaN</td>\n",
       "      <td>NaN</td>\n",
       "      <td>NaN</td>\n",
       "      <td>...</td>\n",
       "      <td>NaN</td>\n",
       "      <td>NaN</td>\n",
       "      <td>NaN</td>\n",
       "      <td>NaN</td>\n",
       "      <td>0.0</td>\n",
       "      <td>0.0</td>\n",
       "      <td>0.0</td>\n",
       "      <td>NaN</td>\n",
       "      <td>NaN</td>\n",
       "      <td>NaN</td>\n",
       "    </tr>\n",
       "    <tr>\n",
       "      <th>CID0000004</th>\n",
       "      <td>NaN</td>\n",
       "      <td>NaN</td>\n",
       "      <td>NaN</td>\n",
       "      <td>NaN</td>\n",
       "      <td>NaN</td>\n",
       "      <td>NaN</td>\n",
       "      <td>NaN</td>\n",
       "      <td>0.0</td>\n",
       "      <td>NaN</td>\n",
       "      <td>0.0</td>\n",
       "      <td>...</td>\n",
       "      <td>0.0</td>\n",
       "      <td>NaN</td>\n",
       "      <td>0.0</td>\n",
       "      <td>NaN</td>\n",
       "      <td>1.0</td>\n",
       "      <td>0.0</td>\n",
       "      <td>0.0</td>\n",
       "      <td>0.0</td>\n",
       "      <td>0.0</td>\n",
       "      <td>NaN</td>\n",
       "    </tr>\n",
       "    <tr>\n",
       "      <th>CID0000006</th>\n",
       "      <td>NaN</td>\n",
       "      <td>NaN</td>\n",
       "      <td>NaN</td>\n",
       "      <td>NaN</td>\n",
       "      <td>NaN</td>\n",
       "      <td>NaN</td>\n",
       "      <td>NaN</td>\n",
       "      <td>NaN</td>\n",
       "      <td>NaN</td>\n",
       "      <td>NaN</td>\n",
       "      <td>...</td>\n",
       "      <td>NaN</td>\n",
       "      <td>NaN</td>\n",
       "      <td>NaN</td>\n",
       "      <td>NaN</td>\n",
       "      <td>NaN</td>\n",
       "      <td>NaN</td>\n",
       "      <td>NaN</td>\n",
       "      <td>NaN</td>\n",
       "      <td>NaN</td>\n",
       "      <td>0.0</td>\n",
       "    </tr>\n",
       "  </tbody>\n",
       "</table>\n",
       "<p>5 rows × 39 columns</p>\n",
       "</div>"
      ],
      "text/plain": [
       "CLOSE_MONTH  201503  201504  201505  201506  201507  201508  201509  201510  \\\n",
       "CID                                                                           \n",
       "CID0000000      NaN     NaN     NaN     NaN     NaN     NaN     NaN     NaN   \n",
       "CID0000001      NaN     NaN     NaN     NaN     NaN     NaN     NaN     0.0   \n",
       "CID0000003      NaN     NaN     NaN     NaN     NaN     NaN     NaN     NaN   \n",
       "CID0000004      NaN     NaN     NaN     NaN     NaN     NaN     NaN     0.0   \n",
       "CID0000006      NaN     NaN     NaN     NaN     NaN     NaN     NaN     NaN   \n",
       "\n",
       "CLOSE_MONTH  201511  201512   ...    201708  201709  201710  201711  201712  \\\n",
       "CID                           ...                                             \n",
       "CID0000000      NaN     NaN   ...       NaN     NaN     NaN     NaN     NaN   \n",
       "CID0000001      NaN     0.0   ...       NaN     NaN     NaN     NaN     NaN   \n",
       "CID0000003      NaN     NaN   ...       NaN     NaN     NaN     NaN     0.0   \n",
       "CID0000004      NaN     0.0   ...       0.0     NaN     0.0     NaN     1.0   \n",
       "CID0000006      NaN     NaN   ...       NaN     NaN     NaN     NaN     NaN   \n",
       "\n",
       "CLOSE_MONTH  201801  201802  201803  201804  201805  \n",
       "CID                                                  \n",
       "CID0000000      NaN     NaN     NaN     NaN     NaN  \n",
       "CID0000001      NaN     NaN     NaN     NaN     NaN  \n",
       "CID0000003      0.0     0.0     NaN     NaN     NaN  \n",
       "CID0000004      0.0     0.0     0.0     0.0     NaN  \n",
       "CID0000006      NaN     NaN     NaN     NaN     0.0  \n",
       "\n",
       "[5 rows x 39 columns]"
      ]
     },
     "execution_count": 19,
     "metadata": {},
     "output_type": "execute_result"
    }
   ],
   "source": [
    "overdue.columns = overdue.columns.droplevel()\n",
    "overdue.head()"
   ]
  },
  {
   "cell_type": "code",
   "execution_count": 21,
   "metadata": {},
   "outputs": [],
   "source": [
    "import collections"
   ]
  },
  {
   "cell_type": "markdown",
   "metadata": {},
   "source": [
    "构建转移矩阵，横坐标（行）表示转移前状态，纵坐标（列）表示下一个月状态（转移后）, 选取\n",
    "连续两个月的有记录的，记录逾期阶段迁移，计算 count 录入转移矩阵。"
   ]
  },
  {
   "cell_type": "code",
   "execution_count": 25,
   "metadata": {},
   "outputs": [],
   "source": [
    "import collections\n",
    "def get_mat(df):\n",
    "    \"\"\"\n",
    "    构建转移矩阵，索引表示转移前的逾期状态，\n",
    "    列名表示转移后的逾期状态。\n",
    "    \"\"\"\n",
    "    #先生成一个矩阵\n",
    "    trans_mat = pd.DataFrame(data=0, columns=range(0,10),index=range(0,10))\n",
    "    counter = collections.Counter()#建一个计数器，能够对传进去序列的子元素进行计数\n",
    "\n",
    "    for i,j in zip(df.columns,df.columns[1:]):#将上个月与下个月拼接\n",
    "        select = (df[i].notnull()) & (df[j].notnull())#上月和下月都有记录的，第i列和第j列不为空的值\n",
    "        counter += collections.Counter(tuple(x) for x in df.loc[select, [i,j]].values)\n",
    "        #第i列和第j列不为空的行的值\n",
    "\n",
    "    for key in counter.keys():\n",
    "        trans_mat.loc[key[0],key[1]] = counter[key]\n",
    "      #转换为所建矩阵形式  \n",
    "    trans_mat[\"all_count\"] = trans_mat.apply(sum, axis=1)\n",
    "    bad_count = []\n",
    "    for j in range(10):\n",
    "        bad_count.append(trans_mat.iloc[j,j+1:10].sum())\n",
    "    trans_mat[\"bad_count\"] = bad_count\n",
    "    trans_mat[\"to_bad\"] = trans_mat[\"bad_count\"]/trans_mat[\"all_count\"]\n",
    "    return trans_mat"
   ]
  },
  {
   "cell_type": "code",
   "execution_count": 23,
   "metadata": {},
   "outputs": [
    {
     "data": {
      "text/plain": [
       "Counter({(1, 0): 2, (0, 1): 1, (1, 1): 1})"
      ]
     },
     "execution_count": 23,
     "metadata": {},
     "output_type": "execute_result"
    }
   ],
   "source": [
    "collections.Counter([(1,0),(0,1),(1,1),(1,0)])"
   ]
  },
  {
   "cell_type": "code",
   "execution_count": 26,
   "metadata": {},
   "outputs": [
    {
     "data": {
      "text/html": [
       "<div>\n",
       "<style scoped>\n",
       "    .dataframe tbody tr th:only-of-type {\n",
       "        vertical-align: middle;\n",
       "    }\n",
       "\n",
       "    .dataframe tbody tr th {\n",
       "        vertical-align: top;\n",
       "    }\n",
       "\n",
       "    .dataframe thead th {\n",
       "        text-align: right;\n",
       "    }\n",
       "</style>\n",
       "<table border=\"1\" class=\"dataframe\">\n",
       "  <thead>\n",
       "    <tr style=\"text-align: right;\">\n",
       "      <th></th>\n",
       "      <th>0</th>\n",
       "      <th>1</th>\n",
       "      <th>2</th>\n",
       "      <th>3</th>\n",
       "      <th>4</th>\n",
       "      <th>5</th>\n",
       "      <th>6</th>\n",
       "      <th>7</th>\n",
       "      <th>8</th>\n",
       "      <th>9</th>\n",
       "      <th>all_count</th>\n",
       "      <th>bad_count</th>\n",
       "      <th>to_bad</th>\n",
       "    </tr>\n",
       "  </thead>\n",
       "  <tbody>\n",
       "    <tr>\n",
       "      <th>0</th>\n",
       "      <td>218269</td>\n",
       "      <td>78639</td>\n",
       "      <td>3232</td>\n",
       "      <td>0</td>\n",
       "      <td>0</td>\n",
       "      <td>0</td>\n",
       "      <td>0</td>\n",
       "      <td>0</td>\n",
       "      <td>2</td>\n",
       "      <td>2</td>\n",
       "      <td>300144</td>\n",
       "      <td>81875</td>\n",
       "      <td>0.272786</td>\n",
       "    </tr>\n",
       "    <tr>\n",
       "      <th>1</th>\n",
       "      <td>59218</td>\n",
       "      <td>169811</td>\n",
       "      <td>20351</td>\n",
       "      <td>9020</td>\n",
       "      <td>0</td>\n",
       "      <td>16</td>\n",
       "      <td>8</td>\n",
       "      <td>8</td>\n",
       "      <td>2</td>\n",
       "      <td>6</td>\n",
       "      <td>258440</td>\n",
       "      <td>29411</td>\n",
       "      <td>0.113802</td>\n",
       "    </tr>\n",
       "    <tr>\n",
       "      <th>2</th>\n",
       "      <td>556</td>\n",
       "      <td>4061</td>\n",
       "      <td>3775</td>\n",
       "      <td>17287</td>\n",
       "      <td>7</td>\n",
       "      <td>0</td>\n",
       "      <td>0</td>\n",
       "      <td>0</td>\n",
       "      <td>0</td>\n",
       "      <td>0</td>\n",
       "      <td>25686</td>\n",
       "      <td>17294</td>\n",
       "      <td>0.673285</td>\n",
       "    </tr>\n",
       "    <tr>\n",
       "      <th>3</th>\n",
       "      <td>184</td>\n",
       "      <td>1233</td>\n",
       "      <td>586</td>\n",
       "      <td>1686</td>\n",
       "      <td>22226</td>\n",
       "      <td>446</td>\n",
       "      <td>0</td>\n",
       "      <td>0</td>\n",
       "      <td>0</td>\n",
       "      <td>2</td>\n",
       "      <td>26363</td>\n",
       "      <td>22674</td>\n",
       "      <td>0.860069</td>\n",
       "    </tr>\n",
       "    <tr>\n",
       "      <th>4</th>\n",
       "      <td>1</td>\n",
       "      <td>20</td>\n",
       "      <td>5</td>\n",
       "      <td>0</td>\n",
       "      <td>233</td>\n",
       "      <td>13634</td>\n",
       "      <td>2803</td>\n",
       "      <td>8</td>\n",
       "      <td>0</td>\n",
       "      <td>0</td>\n",
       "      <td>16704</td>\n",
       "      <td>16445</td>\n",
       "      <td>0.984495</td>\n",
       "    </tr>\n",
       "    <tr>\n",
       "      <th>5</th>\n",
       "      <td>0</td>\n",
       "      <td>2</td>\n",
       "      <td>2</td>\n",
       "      <td>0</td>\n",
       "      <td>0</td>\n",
       "      <td>211</td>\n",
       "      <td>14936</td>\n",
       "      <td>911</td>\n",
       "      <td>0</td>\n",
       "      <td>0</td>\n",
       "      <td>16062</td>\n",
       "      <td>15847</td>\n",
       "      <td>0.986614</td>\n",
       "    </tr>\n",
       "    <tr>\n",
       "      <th>6</th>\n",
       "      <td>0</td>\n",
       "      <td>0</td>\n",
       "      <td>0</td>\n",
       "      <td>2</td>\n",
       "      <td>0</td>\n",
       "      <td>0</td>\n",
       "      <td>179</td>\n",
       "      <td>17223</td>\n",
       "      <td>9</td>\n",
       "      <td>8</td>\n",
       "      <td>17421</td>\n",
       "      <td>17240</td>\n",
       "      <td>0.989610</td>\n",
       "    </tr>\n",
       "    <tr>\n",
       "      <th>7</th>\n",
       "      <td>0</td>\n",
       "      <td>8</td>\n",
       "      <td>0</td>\n",
       "      <td>0</td>\n",
       "      <td>8</td>\n",
       "      <td>0</td>\n",
       "      <td>8</td>\n",
       "      <td>1292</td>\n",
       "      <td>14262</td>\n",
       "      <td>4</td>\n",
       "      <td>15582</td>\n",
       "      <td>14266</td>\n",
       "      <td>0.915544</td>\n",
       "    </tr>\n",
       "    <tr>\n",
       "      <th>8</th>\n",
       "      <td>2</td>\n",
       "      <td>2</td>\n",
       "      <td>0</td>\n",
       "      <td>0</td>\n",
       "      <td>0</td>\n",
       "      <td>0</td>\n",
       "      <td>2</td>\n",
       "      <td>4</td>\n",
       "      <td>98</td>\n",
       "      <td>12527</td>\n",
       "      <td>12635</td>\n",
       "      <td>12527</td>\n",
       "      <td>0.991452</td>\n",
       "    </tr>\n",
       "    <tr>\n",
       "      <th>9</th>\n",
       "      <td>0</td>\n",
       "      <td>10</td>\n",
       "      <td>2</td>\n",
       "      <td>4</td>\n",
       "      <td>0</td>\n",
       "      <td>4</td>\n",
       "      <td>8</td>\n",
       "      <td>12</td>\n",
       "      <td>22</td>\n",
       "      <td>247</td>\n",
       "      <td>309</td>\n",
       "      <td>0</td>\n",
       "      <td>0.000000</td>\n",
       "    </tr>\n",
       "  </tbody>\n",
       "</table>\n",
       "</div>"
      ],
      "text/plain": [
       "        0       1      2      3      4      5      6      7      8      9  \\\n",
       "0  218269   78639   3232      0      0      0      0      0      2      2   \n",
       "1   59218  169811  20351   9020      0     16      8      8      2      6   \n",
       "2     556    4061   3775  17287      7      0      0      0      0      0   \n",
       "3     184    1233    586   1686  22226    446      0      0      0      2   \n",
       "4       1      20      5      0    233  13634   2803      8      0      0   \n",
       "5       0       2      2      0      0    211  14936    911      0      0   \n",
       "6       0       0      0      2      0      0    179  17223      9      8   \n",
       "7       0       8      0      0      8      0      8   1292  14262      4   \n",
       "8       2       2      0      0      0      0      2      4     98  12527   \n",
       "9       0      10      2      4      0      4      8     12     22    247   \n",
       "\n",
       "   all_count  bad_count    to_bad  \n",
       "0     300144      81875  0.272786  \n",
       "1     258440      29411  0.113802  \n",
       "2      25686      17294  0.673285  \n",
       "3      26363      22674  0.860069  \n",
       "4      16704      16445  0.984495  \n",
       "5      16062      15847  0.986614  \n",
       "6      17421      17240  0.989610  \n",
       "7      15582      14266  0.915544  \n",
       "8      12635      12527  0.991452  \n",
       "9        309          0  0.000000  "
      ]
     },
     "execution_count": 26,
     "metadata": {},
     "output_type": "execute_result"
    }
   ],
   "source": [
    "#注意：因为异常点不多，不影响整体结果，故不处理\n",
    "get_mat(overdue)"
   ]
  },
  {
   "cell_type": "markdown",
   "metadata": {},
   "source": [
    "由上表可知， 在逾期阶段到了 M2 时，下一阶段继续转坏的概率达到了 67%，逾期阶段到达 M3 阶\n",
    "段时，下一阶段继续转坏的概率为 86%，可根据业务需要（营销、风险等等）来考虑定义进入 M2 或\n",
    "M3 阶段的用户为坏客户。这里我们暂定为 M2。"
   ]
  },
  {
   "cell_type": "markdown",
   "metadata": {},
   "source": [
    "### 确定时间间隔"
   ]
  },
  {
   "cell_type": "code",
   "execution_count": 28,
   "metadata": {},
   "outputs": [
    {
     "data": {
      "text/html": [
       "<div>\n",
       "<style scoped>\n",
       "    .dataframe tbody tr th:only-of-type {\n",
       "        vertical-align: middle;\n",
       "    }\n",
       "\n",
       "    .dataframe tbody tr th {\n",
       "        vertical-align: top;\n",
       "    }\n",
       "\n",
       "    .dataframe thead th {\n",
       "        text-align: right;\n",
       "    }\n",
       "</style>\n",
       "<table border=\"1\" class=\"dataframe\">\n",
       "  <thead>\n",
       "    <tr style=\"text-align: right;\">\n",
       "      <th></th>\n",
       "      <th>CID</th>\n",
       "      <th>FST_USE_DT</th>\n",
       "    </tr>\n",
       "  </thead>\n",
       "  <tbody>\n",
       "    <tr>\n",
       "      <th>0</th>\n",
       "      <td>CID0092102</td>\n",
       "      <td>20161116</td>\n",
       "    </tr>\n",
       "    <tr>\n",
       "      <th>1</th>\n",
       "      <td>CID0111878</td>\n",
       "      <td>20161118</td>\n",
       "    </tr>\n",
       "    <tr>\n",
       "      <th>2</th>\n",
       "      <td>CID0264977</td>\n",
       "      <td>20161120</td>\n",
       "    </tr>\n",
       "  </tbody>\n",
       "</table>\n",
       "</div>"
      ],
      "text/plain": [
       "          CID  FST_USE_DT\n",
       "0  CID0092102    20161116\n",
       "1  CID0111878    20161118\n",
       "2  CID0264977    20161120"
      ]
     },
     "execution_count": 28,
     "metadata": {},
     "output_type": "execute_result"
    }
   ],
   "source": [
    "first_use=pd.read_csv('F:/temdata/data/CreditFirstUse.csv')\n",
    "first_use.head(3)"
   ]
  },
  {
   "cell_type": "code",
   "execution_count": 29,
   "metadata": {},
   "outputs": [],
   "source": [
    "first_use.set_index(\"CID\",inplace=True)"
   ]
  },
  {
   "cell_type": "code",
   "execution_count": 30,
   "metadata": {},
   "outputs": [
    {
     "data": {
      "text/html": [
       "<div>\n",
       "<style scoped>\n",
       "    .dataframe tbody tr th:only-of-type {\n",
       "        vertical-align: middle;\n",
       "    }\n",
       "\n",
       "    .dataframe tbody tr th {\n",
       "        vertical-align: top;\n",
       "    }\n",
       "\n",
       "    .dataframe thead th {\n",
       "        text-align: right;\n",
       "    }\n",
       "</style>\n",
       "<table border=\"1\" class=\"dataframe\">\n",
       "  <thead>\n",
       "    <tr style=\"text-align: right;\">\n",
       "      <th></th>\n",
       "      <th>FST_USE_DT</th>\n",
       "      <th>FST_USE_MONTH</th>\n",
       "    </tr>\n",
       "    <tr>\n",
       "      <th>CID</th>\n",
       "      <th></th>\n",
       "      <th></th>\n",
       "    </tr>\n",
       "  </thead>\n",
       "  <tbody>\n",
       "    <tr>\n",
       "      <th>CID0092102</th>\n",
       "      <td>20161116</td>\n",
       "      <td>201611</td>\n",
       "    </tr>\n",
       "    <tr>\n",
       "      <th>CID0111878</th>\n",
       "      <td>20161118</td>\n",
       "      <td>201611</td>\n",
       "    </tr>\n",
       "    <tr>\n",
       "      <th>CID0264977</th>\n",
       "      <td>20161120</td>\n",
       "      <td>201611</td>\n",
       "    </tr>\n",
       "    <tr>\n",
       "      <th>CID0059996</th>\n",
       "      <td>20160907</td>\n",
       "      <td>201609</td>\n",
       "    </tr>\n",
       "    <tr>\n",
       "      <th>CID0057096</th>\n",
       "      <td>20160910</td>\n",
       "      <td>201609</td>\n",
       "    </tr>\n",
       "  </tbody>\n",
       "</table>\n",
       "</div>"
      ],
      "text/plain": [
       "            FST_USE_DT  FST_USE_MONTH\n",
       "CID                                  \n",
       "CID0092102    20161116         201611\n",
       "CID0111878    20161118         201611\n",
       "CID0264977    20161120         201611\n",
       "CID0059996    20160907         201609\n",
       "CID0057096    20160910         201609"
      ]
     },
     "execution_count": 30,
     "metadata": {},
     "output_type": "execute_result"
    }
   ],
   "source": [
    "first_use[\"FST_USE_MONTH\"] = first_use.FST_USE_DT.map(lambda x:x//100)\n",
    "first_use.head()"
   ]
  },
  {
   "cell_type": "code",
   "execution_count": 31,
   "metadata": {},
   "outputs": [],
   "source": [
    "# 计算每笔订单第一次出现逾期的月份索引位置\n",
    "def get_first_overdue(ser):\n",
    "    array = np.where(ser >= 2)[0]\n",
    "    if array.size > 0:\n",
    "        return array[0]\n",
    "    else:\n",
    "        return np.nan"
   ]
  },
  {
   "cell_type": "code",
   "execution_count": 59,
   "metadata": {},
   "outputs": [],
   "source": [
    "OVERDUE_INDEX = overdue.apply(get_first_overdue,axis=1)\n",
    "# 用时约 1 ～ 2 分钟"
   ]
  },
  {
   "cell_type": "code",
   "execution_count": 33,
   "metadata": {},
   "outputs": [],
   "source": [
    "first_use[\"OVERDUE_INDEX\"] = OVERDUE_INDEX"
   ]
  },
  {
   "cell_type": "code",
   "execution_count": 34,
   "metadata": {},
   "outputs": [],
   "source": [
    "first_use[\"START_INDEX\"] = first_use.FST_USE_MONTH.map({k:v for v,k in enumerate(overdue.columns)})\n",
    "#enumerate（）返回索引及数据，然后对每个值去集合里查对应值"
   ]
  },
  {
   "cell_type": "code",
   "execution_count": 35,
   "metadata": {},
   "outputs": [
    {
     "data": {
      "text/html": [
       "<div>\n",
       "<style scoped>\n",
       "    .dataframe tbody tr th:only-of-type {\n",
       "        vertical-align: middle;\n",
       "    }\n",
       "\n",
       "    .dataframe tbody tr th {\n",
       "        vertical-align: top;\n",
       "    }\n",
       "\n",
       "    .dataframe thead th {\n",
       "        text-align: right;\n",
       "    }\n",
       "</style>\n",
       "<table border=\"1\" class=\"dataframe\">\n",
       "  <thead>\n",
       "    <tr style=\"text-align: right;\">\n",
       "      <th></th>\n",
       "      <th>FST_USE_DT</th>\n",
       "      <th>FST_USE_MONTH</th>\n",
       "      <th>OVERDUE_INDEX</th>\n",
       "      <th>START_INDEX</th>\n",
       "    </tr>\n",
       "    <tr>\n",
       "      <th>CID</th>\n",
       "      <th></th>\n",
       "      <th></th>\n",
       "      <th></th>\n",
       "      <th></th>\n",
       "    </tr>\n",
       "  </thead>\n",
       "  <tbody>\n",
       "    <tr>\n",
       "      <th>CID0082006</th>\n",
       "      <td>20160906</td>\n",
       "      <td>201609</td>\n",
       "      <td>26.0</td>\n",
       "      <td>18.0</td>\n",
       "    </tr>\n",
       "    <tr>\n",
       "      <th>CID0383647</th>\n",
       "      <td>20160906</td>\n",
       "      <td>201609</td>\n",
       "      <td>29.0</td>\n",
       "      <td>18.0</td>\n",
       "    </tr>\n",
       "    <tr>\n",
       "      <th>CID0006192</th>\n",
       "      <td>20161022</td>\n",
       "      <td>201610</td>\n",
       "      <td>28.0</td>\n",
       "      <td>19.0</td>\n",
       "    </tr>\n",
       "    <tr>\n",
       "      <th>CID0348120</th>\n",
       "      <td>20161122</td>\n",
       "      <td>201611</td>\n",
       "      <td>33.0</td>\n",
       "      <td>20.0</td>\n",
       "    </tr>\n",
       "    <tr>\n",
       "      <th>CID0155834</th>\n",
       "      <td>20161123</td>\n",
       "      <td>201611</td>\n",
       "      <td>28.0</td>\n",
       "      <td>20.0</td>\n",
       "    </tr>\n",
       "  </tbody>\n",
       "</table>\n",
       "</div>"
      ],
      "text/plain": [
       "            FST_USE_DT  FST_USE_MONTH  OVERDUE_INDEX  START_INDEX\n",
       "CID                                                              \n",
       "CID0082006    20160906         201609           26.0         18.0\n",
       "CID0383647    20160906         201609           29.0         18.0\n",
       "CID0006192    20161022         201610           28.0         19.0\n",
       "CID0348120    20161122         201611           33.0         20.0\n",
       "CID0155834    20161123         201611           28.0         20.0"
      ]
     },
     "execution_count": 35,
     "metadata": {},
     "output_type": "execute_result"
    }
   ],
   "source": [
    "first_use.loc[first_use.OVERDUE_INDEX.notnull()].head()"
   ]
  },
  {
   "cell_type": "code",
   "execution_count": 36,
   "metadata": {},
   "outputs": [
    {
     "data": {
      "text/html": [
       "<div>\n",
       "<style scoped>\n",
       "    .dataframe tbody tr th:only-of-type {\n",
       "        vertical-align: middle;\n",
       "    }\n",
       "\n",
       "    .dataframe tbody tr th {\n",
       "        vertical-align: top;\n",
       "    }\n",
       "\n",
       "    .dataframe thead th {\n",
       "        text-align: right;\n",
       "    }\n",
       "</style>\n",
       "<table border=\"1\" class=\"dataframe\">\n",
       "  <thead>\n",
       "    <tr style=\"text-align: right;\">\n",
       "      <th></th>\n",
       "      <th>FST_USE_DT</th>\n",
       "      <th>FST_USE_MONTH</th>\n",
       "      <th>OVERDUE_INDEX</th>\n",
       "      <th>START_INDEX</th>\n",
       "    </tr>\n",
       "    <tr>\n",
       "      <th>CID</th>\n",
       "      <th></th>\n",
       "      <th></th>\n",
       "      <th></th>\n",
       "      <th></th>\n",
       "    </tr>\n",
       "  </thead>\n",
       "  <tbody>\n",
       "    <tr>\n",
       "      <th>CID0164451</th>\n",
       "      <td>20170722</td>\n",
       "      <td>201707</td>\n",
       "      <td>9.0</td>\n",
       "      <td>28.0</td>\n",
       "    </tr>\n",
       "  </tbody>\n",
       "</table>\n",
       "</div>"
      ],
      "text/plain": [
       "            FST_USE_DT  FST_USE_MONTH  OVERDUE_INDEX  START_INDEX\n",
       "CID                                                              \n",
       "CID0164451    20170722         201707            9.0         28.0"
      ]
     },
     "execution_count": 36,
     "metadata": {},
     "output_type": "execute_result"
    }
   ],
   "source": [
    "# 查看异常数据\n",
    "first_use[first_use.OVERDUE_INDEX < first_use.START_INDEX]"
   ]
  },
  {
   "cell_type": "code",
   "execution_count": 39,
   "metadata": {},
   "outputs": [
    {
     "data": {
      "text/html": [
       "<div>\n",
       "<style scoped>\n",
       "    .dataframe tbody tr th:only-of-type {\n",
       "        vertical-align: middle;\n",
       "    }\n",
       "\n",
       "    .dataframe tbody tr th {\n",
       "        vertical-align: top;\n",
       "    }\n",
       "\n",
       "    .dataframe thead th {\n",
       "        text-align: right;\n",
       "    }\n",
       "</style>\n",
       "<table border=\"1\" class=\"dataframe\">\n",
       "  <thead>\n",
       "    <tr style=\"text-align: right;\">\n",
       "      <th></th>\n",
       "      <th>CID</th>\n",
       "      <th>STAGE_BEF</th>\n",
       "      <th>STAGE_AFT</th>\n",
       "      <th>START_DATE</th>\n",
       "      <th>CLOSE_DATE</th>\n",
       "      <th>START_MONTH</th>\n",
       "      <th>CLOSE_MONTH</th>\n",
       "      <th>AFT_FLAG</th>\n",
       "    </tr>\n",
       "  </thead>\n",
       "  <tbody>\n",
       "    <tr>\n",
       "      <th>1115857</th>\n",
       "      <td>CID0164451</td>\n",
       "      <td>M1</td>\n",
       "      <td>M2</td>\n",
       "      <td>20151201.0</td>\n",
       "      <td>20151225.0</td>\n",
       "      <td>201512</td>\n",
       "      <td>201512</td>\n",
       "      <td>2</td>\n",
       "    </tr>\n",
       "    <tr>\n",
       "      <th>1298974</th>\n",
       "      <td>CID0164451</td>\n",
       "      <td></td>\n",
       "      <td>M0</td>\n",
       "      <td>20151101.0</td>\n",
       "      <td>20151104.0</td>\n",
       "      <td>201511</td>\n",
       "      <td>201511</td>\n",
       "      <td>0</td>\n",
       "    </tr>\n",
       "    <tr>\n",
       "      <th>1462710</th>\n",
       "      <td>CID0164451</td>\n",
       "      <td>M0</td>\n",
       "      <td>M1</td>\n",
       "      <td>20151104.0</td>\n",
       "      <td>20151201.0</td>\n",
       "      <td>201511</td>\n",
       "      <td>201512</td>\n",
       "      <td>1</td>\n",
       "    </tr>\n",
       "    <tr>\n",
       "      <th>1796143</th>\n",
       "      <td>CID0164451</td>\n",
       "      <td></td>\n",
       "      <td>M0</td>\n",
       "      <td>20170101.0</td>\n",
       "      <td>20170102.0</td>\n",
       "      <td>201701</td>\n",
       "      <td>201701</td>\n",
       "      <td>0</td>\n",
       "    </tr>\n",
       "  </tbody>\n",
       "</table>\n",
       "</div>"
      ],
      "text/plain": [
       "                CID STAGE_BEF STAGE_AFT  START_DATE  CLOSE_DATE  START_MONTH  \\\n",
       "1115857  CID0164451        M1        M2  20151201.0  20151225.0       201512   \n",
       "1298974  CID0164451                  M0  20151101.0  20151104.0       201511   \n",
       "1462710  CID0164451        M0        M1  20151104.0  20151201.0       201511   \n",
       "1796143  CID0164451                  M0  20170101.0  20170102.0       201701   \n",
       "\n",
       "         CLOSE_MONTH  AFT_FLAG  \n",
       "1115857       201512         2  \n",
       "1298974       201511         0  \n",
       "1462710       201512         1  \n",
       "1796143       201701         0  "
      ]
     },
     "execution_count": 39,
     "metadata": {},
     "output_type": "execute_result"
    }
   ],
   "source": [
    "df_Credit.loc[df_Credit.CID==\"CID0164451\",:]"
   ]
  },
  {
   "cell_type": "code",
   "execution_count": 40,
   "metadata": {},
   "outputs": [],
   "source": [
    "# 仅有一条处理时删除即可\n",
    "month_count = (first_use.OVERDUE_INDEX - first_use.START_INDEX).value_counts().sort_index()[1:]\n"
   ]
  },
  {
   "cell_type": "code",
   "execution_count": 43,
   "metadata": {},
   "outputs": [
    {
     "data": {
      "image/png": "[encoded data removed]",
      "text/plain": [
       "<Figure size 432x288 with 1 Axes>"
      ]
     },
     "metadata": {
      "needs_background": "light"
     },
     "output_type": "display_data"
    }
   ],
   "source": [
    "month_count.plot()\n",
    "plt.show()"
   ]
  },
  {
   "cell_type": "code",
   "execution_count": 42,
   "metadata": {},
   "outputs": [
    {
     "data": {
      "image/png": "[encoded data removed]",
      "text/plain": [
       "<Figure size 432x288 with 1 Axes>"
      ]
     },
     "metadata": {
      "needs_background": "light"
     },
     "output_type": "display_data"
    }
   ],
   "source": [
    "#累积图\n",
    "month_count.cumsum().plot();\n",
    "#用分号使得对象信息不显示，类似于plt.show()\n",
    "#在20个月的时候减缓，但实际银行是按6个月出现m3算的"
   ]
  },
  {
   "cell_type": "markdown",
   "metadata": {},
   "source": [
    "正负样本定义实例：如果通过分析判断观察时间窗口为 m2 表现时间窗口为 6 个月， 那么则定义首\n",
    "六期内有 m2 及以上逾期，即逾期天数 >= 31 天的样本为负样本，逾期天数 <= 3 天的样本为正样本，中\n",
    "间状态的样本做不确定处理不进入模型。"
   ]
  },
  {
   "cell_type": "markdown",
   "metadata": {},
   "source": [
    "# 模型预测"
   ]
  },
  {
   "cell_type": "markdown",
   "metadata": {},
   "source": [
    "用户申请信息表"
   ]
  },
  {
   "cell_type": "code",
   "execution_count": 2,
   "metadata": {},
   "outputs": [
    {
     "data": {
      "text/html": [
       "<div>\n",
       "<style scoped>\n",
       "    .dataframe tbody tr th:only-of-type {\n",
       "        vertical-align: middle;\n",
       "    }\n",
       "\n",
       "    .dataframe tbody tr th {\n",
       "        vertical-align: top;\n",
       "    }\n",
       "\n",
       "    .dataframe thead th {\n",
       "        text-align: right;\n",
       "    }\n",
       "</style>\n",
       "<table border=\"1\" class=\"dataframe\">\n",
       "  <thead>\n",
       "    <tr style=\"text-align: right;\">\n",
       "      <th></th>\n",
       "      <th>SeriousDlqin2yrs</th>\n",
       "      <th>RevolvingUtilizationOfUnsecuredLines</th>\n",
       "      <th>age</th>\n",
       "      <th>NumberOfTime30-59DaysPastDueNotWorse</th>\n",
       "      <th>DebtRatio</th>\n",
       "      <th>MonthlyIncome</th>\n",
       "      <th>NumberOfOpenCreditLinesAndLoans</th>\n",
       "      <th>NumberOfTimes90DaysLate</th>\n",
       "      <th>NumberRealEstateLoansOrLines</th>\n",
       "      <th>NumberOfTime60-89DaysPastDueNotWorse</th>\n",
       "      <th>NumberOfDependents</th>\n",
       "    </tr>\n",
       "  </thead>\n",
       "  <tbody>\n",
       "    <tr>\n",
       "      <th>1</th>\n",
       "      <td>1</td>\n",
       "      <td>0.766127</td>\n",
       "      <td>45</td>\n",
       "      <td>2</td>\n",
       "      <td>0.802982</td>\n",
       "      <td>9120.0</td>\n",
       "      <td>13</td>\n",
       "      <td>0</td>\n",
       "      <td>6</td>\n",
       "      <td>0</td>\n",
       "      <td>2.0</td>\n",
       "    </tr>\n",
       "    <tr>\n",
       "      <th>2</th>\n",
       "      <td>0</td>\n",
       "      <td>0.957151</td>\n",
       "      <td>40</td>\n",
       "      <td>0</td>\n",
       "      <td>0.121876</td>\n",
       "      <td>2600.0</td>\n",
       "      <td>4</td>\n",
       "      <td>0</td>\n",
       "      <td>0</td>\n",
       "      <td>0</td>\n",
       "      <td>1.0</td>\n",
       "    </tr>\n",
       "    <tr>\n",
       "      <th>3</th>\n",
       "      <td>0</td>\n",
       "      <td>0.658180</td>\n",
       "      <td>38</td>\n",
       "      <td>1</td>\n",
       "      <td>0.085113</td>\n",
       "      <td>3042.0</td>\n",
       "      <td>2</td>\n",
       "      <td>1</td>\n",
       "      <td>0</td>\n",
       "      <td>0</td>\n",
       "      <td>0.0</td>\n",
       "    </tr>\n",
       "    <tr>\n",
       "      <th>4</th>\n",
       "      <td>0</td>\n",
       "      <td>0.233810</td>\n",
       "      <td>30</td>\n",
       "      <td>0</td>\n",
       "      <td>0.036050</td>\n",
       "      <td>3300.0</td>\n",
       "      <td>5</td>\n",
       "      <td>0</td>\n",
       "      <td>0</td>\n",
       "      <td>0</td>\n",
       "      <td>0.0</td>\n",
       "    </tr>\n",
       "    <tr>\n",
       "      <th>5</th>\n",
       "      <td>0</td>\n",
       "      <td>0.907239</td>\n",
       "      <td>49</td>\n",
       "      <td>1</td>\n",
       "      <td>0.024926</td>\n",
       "      <td>63588.0</td>\n",
       "      <td>7</td>\n",
       "      <td>0</td>\n",
       "      <td>1</td>\n",
       "      <td>0</td>\n",
       "      <td>0.0</td>\n",
       "    </tr>\n",
       "  </tbody>\n",
       "</table>\n",
       "</div>"
      ],
      "text/plain": [
       "   SeriousDlqin2yrs  RevolvingUtilizationOfUnsecuredLines  age  \\\n",
       "1                 1                              0.766127   45   \n",
       "2                 0                              0.957151   40   \n",
       "3                 0                              0.658180   38   \n",
       "4                 0                              0.233810   30   \n",
       "5                 0                              0.907239   49   \n",
       "\n",
       "   NumberOfTime30-59DaysPastDueNotWorse  DebtRatio  MonthlyIncome  \\\n",
       "1                                     2   0.802982         9120.0   \n",
       "2                                     0   0.121876         2600.0   \n",
       "3                                     1   0.085113         3042.0   \n",
       "4                                     0   0.036050         3300.0   \n",
       "5                                     1   0.024926        63588.0   \n",
       "\n",
       "   NumberOfOpenCreditLinesAndLoans  NumberOfTimes90DaysLate  \\\n",
       "1                               13                        0   \n",
       "2                                4                        0   \n",
       "3                                2                        1   \n",
       "4                                5                        0   \n",
       "5                                7                        0   \n",
       "\n",
       "   NumberRealEstateLoansOrLines  NumberOfTime60-89DaysPastDueNotWorse  \\\n",
       "1                             6                                     0   \n",
       "2                             0                                     0   \n",
       "3                             0                                     0   \n",
       "4                             0                                     0   \n",
       "5                             1                                     0   \n",
       "\n",
       "   NumberOfDependents  \n",
       "1                 2.0  \n",
       "2                 1.0  \n",
       "3                 0.0  \n",
       "4                 0.0  \n",
       "5                 0.0  "
      ]
     },
     "execution_count": 2,
     "metadata": {},
     "output_type": "execute_result"
    }
   ],
   "source": [
    "train=pd.read_csv('F:/temdata/data/cs-training.csv',index_col=0)\n",
    "train.head()"
   ]
  },
  {
   "cell_type": "code",
   "execution_count": 66,
   "metadata": {},
   "outputs": [
    {
     "name": "stdout",
     "output_type": "stream",
     "text": [
      "<class 'pandas.core.frame.DataFrame'>\n",
      "Int64Index: 150000 entries, 1 to 150000\n",
      "Data columns (total 11 columns):\n",
      "SeriousDlqin2yrs                        150000 non-null int64\n",
      "RevolvingUtilizationOfUnsecuredLines    150000 non-null float64\n",
      "age                                     150000 non-null int64\n",
      "NumberOfTime30-59DaysPastDueNotWorse    150000 non-null int64\n",
      "DebtRatio                               150000 non-null float64\n",
      "MonthlyIncome                           120269 non-null float64\n",
      "NumberOfOpenCreditLinesAndLoans         150000 non-null int64\n",
      "NumberOfTimes90DaysLate                 150000 non-null int64\n",
      "NumberRealEstateLoansOrLines            150000 non-null int64\n",
      "NumberOfTime60-89DaysPastDueNotWorse    150000 non-null int64\n",
      "NumberOfDependents                      146076 non-null float64\n",
      "dtypes: float64(4), int64(7)\n",
      "memory usage: 13.7 MB\n"
     ]
    }
   ],
   "source": [
    "train.info()"
   ]
  },
  {
   "cell_type": "code",
   "execution_count": 75,
   "metadata": {},
   "outputs": [
    {
     "data": {
      "text/plain": [
       "SeriousDlqin2yrs                        1.000000\n",
       "RevolvingUtilizationOfUnsecuredLines    1.000000\n",
       "age                                     1.000000\n",
       "NumberOfTime30-59DaysPastDueNotWorse    1.000000\n",
       "DebtRatio                               1.000000\n",
       "MonthlyIncome                           0.804399\n",
       "NumberOfOpenCreditLinesAndLoans         1.000000\n",
       "NumberOfTimes90DaysLate                 1.000000\n",
       "NumberRealEstateLoansOrLines            1.000000\n",
       "NumberOfTime60-89DaysPastDueNotWorse    1.000000\n",
       "NumberOfDependents                      0.974376\n",
       "dtype: float64"
      ]
     },
     "execution_count": 75,
     "metadata": {},
     "output_type": "execute_result"
    }
   ],
   "source": [
    "#查看缺失比例\n",
    "#train.isnull().mean()\n",
    "train.notnull().sum()/train.shape[0]"
   ]
  },
  {
   "cell_type": "code",
   "execution_count": 67,
   "metadata": {},
   "outputs": [
    {
     "data": {
      "text/html": [
       "<div>\n",
       "<style scoped>\n",
       "    .dataframe tbody tr th:only-of-type {\n",
       "        vertical-align: middle;\n",
       "    }\n",
       "\n",
       "    .dataframe tbody tr th {\n",
       "        vertical-align: top;\n",
       "    }\n",
       "\n",
       "    .dataframe thead th {\n",
       "        text-align: right;\n",
       "    }\n",
       "</style>\n",
       "<table border=\"1\" class=\"dataframe\">\n",
       "  <thead>\n",
       "    <tr style=\"text-align: right;\">\n",
       "      <th></th>\n",
       "      <th>SeriousDlqin2yrs</th>\n",
       "      <th>RevolvingUtilizationOfUnsecuredLines</th>\n",
       "      <th>age</th>\n",
       "      <th>NumberOfTime30-59DaysPastDueNotWorse</th>\n",
       "      <th>DebtRatio</th>\n",
       "      <th>MonthlyIncome</th>\n",
       "      <th>NumberOfOpenCreditLinesAndLoans</th>\n",
       "      <th>NumberOfTimes90DaysLate</th>\n",
       "      <th>NumberRealEstateLoansOrLines</th>\n",
       "      <th>NumberOfTime60-89DaysPastDueNotWorse</th>\n",
       "      <th>NumberOfDependents</th>\n",
       "    </tr>\n",
       "  </thead>\n",
       "  <tbody>\n",
       "    <tr>\n",
       "      <th>count</th>\n",
       "      <td>150000.000000</td>\n",
       "      <td>150000.000000</td>\n",
       "      <td>150000.000000</td>\n",
       "      <td>150000.000000</td>\n",
       "      <td>150000.000000</td>\n",
       "      <td>1.202690e+05</td>\n",
       "      <td>150000.000000</td>\n",
       "      <td>150000.000000</td>\n",
       "      <td>150000.000000</td>\n",
       "      <td>150000.000000</td>\n",
       "      <td>146076.000000</td>\n",
       "    </tr>\n",
       "    <tr>\n",
       "      <th>mean</th>\n",
       "      <td>0.066840</td>\n",
       "      <td>6.048438</td>\n",
       "      <td>52.295207</td>\n",
       "      <td>0.421033</td>\n",
       "      <td>353.005076</td>\n",
       "      <td>6.670221e+03</td>\n",
       "      <td>8.452760</td>\n",
       "      <td>0.265973</td>\n",
       "      <td>1.018240</td>\n",
       "      <td>0.240387</td>\n",
       "      <td>0.757222</td>\n",
       "    </tr>\n",
       "    <tr>\n",
       "      <th>std</th>\n",
       "      <td>0.249746</td>\n",
       "      <td>249.755371</td>\n",
       "      <td>14.771866</td>\n",
       "      <td>4.192781</td>\n",
       "      <td>2037.818523</td>\n",
       "      <td>1.438467e+04</td>\n",
       "      <td>5.145951</td>\n",
       "      <td>4.169304</td>\n",
       "      <td>1.129771</td>\n",
       "      <td>4.155179</td>\n",
       "      <td>1.115086</td>\n",
       "    </tr>\n",
       "    <tr>\n",
       "      <th>min</th>\n",
       "      <td>0.000000</td>\n",
       "      <td>0.000000</td>\n",
       "      <td>0.000000</td>\n",
       "      <td>0.000000</td>\n",
       "      <td>0.000000</td>\n",
       "      <td>0.000000e+00</td>\n",
       "      <td>0.000000</td>\n",
       "      <td>0.000000</td>\n",
       "      <td>0.000000</td>\n",
       "      <td>0.000000</td>\n",
       "      <td>0.000000</td>\n",
       "    </tr>\n",
       "    <tr>\n",
       "      <th>25%</th>\n",
       "      <td>0.000000</td>\n",
       "      <td>0.029867</td>\n",
       "      <td>41.000000</td>\n",
       "      <td>0.000000</td>\n",
       "      <td>0.175074</td>\n",
       "      <td>3.400000e+03</td>\n",
       "      <td>5.000000</td>\n",
       "      <td>0.000000</td>\n",
       "      <td>0.000000</td>\n",
       "      <td>0.000000</td>\n",
       "      <td>0.000000</td>\n",
       "    </tr>\n",
       "    <tr>\n",
       "      <th>50%</th>\n",
       "      <td>0.000000</td>\n",
       "      <td>0.154181</td>\n",
       "      <td>52.000000</td>\n",
       "      <td>0.000000</td>\n",
       "      <td>0.366508</td>\n",
       "      <td>5.400000e+03</td>\n",
       "      <td>8.000000</td>\n",
       "      <td>0.000000</td>\n",
       "      <td>1.000000</td>\n",
       "      <td>0.000000</td>\n",
       "      <td>0.000000</td>\n",
       "    </tr>\n",
       "    <tr>\n",
       "      <th>75%</th>\n",
       "      <td>0.000000</td>\n",
       "      <td>0.559046</td>\n",
       "      <td>63.000000</td>\n",
       "      <td>0.000000</td>\n",
       "      <td>0.868254</td>\n",
       "      <td>8.249000e+03</td>\n",
       "      <td>11.000000</td>\n",
       "      <td>0.000000</td>\n",
       "      <td>2.000000</td>\n",
       "      <td>0.000000</td>\n",
       "      <td>1.000000</td>\n",
       "    </tr>\n",
       "    <tr>\n",
       "      <th>max</th>\n",
       "      <td>1.000000</td>\n",
       "      <td>50708.000000</td>\n",
       "      <td>109.000000</td>\n",
       "      <td>98.000000</td>\n",
       "      <td>329664.000000</td>\n",
       "      <td>3.008750e+06</td>\n",
       "      <td>58.000000</td>\n",
       "      <td>98.000000</td>\n",
       "      <td>54.000000</td>\n",
       "      <td>98.000000</td>\n",
       "      <td>20.000000</td>\n",
       "    </tr>\n",
       "  </tbody>\n",
       "</table>\n",
       "</div>"
      ],
      "text/plain": [
       "       SeriousDlqin2yrs  RevolvingUtilizationOfUnsecuredLines            age  \\\n",
       "count     150000.000000                         150000.000000  150000.000000   \n",
       "mean           0.066840                              6.048438      52.295207   \n",
       "std            0.249746                            249.755371      14.771866   \n",
       "min            0.000000                              0.000000       0.000000   \n",
       "25%            0.000000                              0.029867      41.000000   \n",
       "50%            0.000000                              0.154181      52.000000   \n",
       "75%            0.000000                              0.559046      63.000000   \n",
       "max            1.000000                          50708.000000     109.000000   \n",
       "\n",
       "       NumberOfTime30-59DaysPastDueNotWorse      DebtRatio  MonthlyIncome  \\\n",
       "count                         150000.000000  150000.000000   1.202690e+05   \n",
       "mean                               0.421033     353.005076   6.670221e+03   \n",
       "std                                4.192781    2037.818523   1.438467e+04   \n",
       "min                                0.000000       0.000000   0.000000e+00   \n",
       "25%                                0.000000       0.175074   3.400000e+03   \n",
       "50%                                0.000000       0.366508   5.400000e+03   \n",
       "75%                                0.000000       0.868254   8.249000e+03   \n",
       "max                               98.000000  329664.000000   3.008750e+06   \n",
       "\n",
       "       NumberOfOpenCreditLinesAndLoans  NumberOfTimes90DaysLate  \\\n",
       "count                    150000.000000            150000.000000   \n",
       "mean                          8.452760                 0.265973   \n",
       "std                           5.145951                 4.169304   \n",
       "min                           0.000000                 0.000000   \n",
       "25%                           5.000000                 0.000000   \n",
       "50%                           8.000000                 0.000000   \n",
       "75%                          11.000000                 0.000000   \n",
       "max                          58.000000                98.000000   \n",
       "\n",
       "       NumberRealEstateLoansOrLines  NumberOfTime60-89DaysPastDueNotWorse  \\\n",
       "count                 150000.000000                         150000.000000   \n",
       "mean                       1.018240                              0.240387   \n",
       "std                        1.129771                              4.155179   \n",
       "min                        0.000000                              0.000000   \n",
       "25%                        0.000000                              0.000000   \n",
       "50%                        1.000000                              0.000000   \n",
       "75%                        2.000000                              0.000000   \n",
       "max                       54.000000                             98.000000   \n",
       "\n",
       "       NumberOfDependents  \n",
       "count       146076.000000  \n",
       "mean             0.757222  \n",
       "std              1.115086  \n",
       "min              0.000000  \n",
       "25%              0.000000  \n",
       "50%              0.000000  \n",
       "75%              1.000000  \n",
       "max             20.000000  "
      ]
     },
     "execution_count": 67,
     "metadata": {},
     "output_type": "execute_result"
    }
   ],
   "source": [
    "train.describe()"
   ]
  },
  {
   "cell_type": "code",
   "execution_count": 3,
   "metadata": {},
   "outputs": [],
   "source": [
    "#删除重复项\n",
    "train.drop_duplicates(inplace=True)"
   ]
  },
  {
   "cell_type": "markdown",
   "metadata": {},
   "source": [
    "SeriousDlqin2yrs:出现 90 天或更长时间的逾期行为（即定义好坏客户）,二分类变量Y/S。  \n",
    "RevolvingUtilizationOfUnsecuredLines：贷款以及信用卡可用额度与总额度比例，百分比。***有异常值需要处理，应该是没有除以总额度的原因。***  \n",
    "age：借款人借款年龄，整数。最小年龄为0，最大年龄为109，***有异常值，需要处理。最后要转化为代表年龄段的数值变量***  \n",
    "NumberOfTime30-59DaysPastDueNotWorse:过去两年内出现35-59天逾期但是没有发展的更坏的次数，整数。***有个最大值98，不知道对不对，感觉不对***  \n",
    "DebtRatio：每月偿还债务，赡养费，生活费用除以月总收入，百分比。***有异常值需要处理，应该是没有除以月总收入的原因。***  \n",
    "MonthlyIncome：月收入，真实值。***有缺失值，在0到三百万之间，要处理异常值***  \n",
    "NumberOfOpenCreditLinesAndLoans：开放式贷款和信贷数量，整数。***有个最大值58，不知道对不对，感觉不对***  \n",
    "NumberOfTimes90DaysLate：借款者有90天或更高逾期的次数，整数。***有个最大值98，不知道对不对，感觉不对***  \n",
    "NumberRealEstateLoansOrLines：抵押贷款和房地产贷款数量，包括房屋净值信贷额度，整数。***有个最大值54，异常值需处理***  \n",
    "NumberOfTime60-89DaysPastDueNotWorse：过去两年内出现60-89天逾期但是没有发展的更坏的次数，整数。***有个最大值98，不知道对不对，感觉不对***  \n",
    "NumberOfDependents：家庭中不包括自身的家属人数（配偶，子女等），整数。***实际为浮点型，要处理完空值和异常值之后改回去,而且有一个家庭人数是20，不知道对不对。***  "
   ]
  },
  {
   "cell_type": "markdown",
   "metadata": {},
   "source": [
    "### 缺失值处理"
   ]
  },
  {
   "cell_type": "code",
   "execution_count": 74,
   "metadata": {},
   "outputs": [
    {
     "data": {
      "image/png": "[encoded data removed]",
      "text/plain": [
       "<Figure size 1800x720 with 2 Axes>"
      ]
     },
     "metadata": {
      "needs_background": "light"
     },
     "output_type": "display_data"
    }
   ],
   "source": [
    "import missingno as msno\n",
    "msno.matrix(train);"
   ]
  },
  {
   "cell_type": "markdown",
   "metadata": {},
   "source": [
    "***非海量信息时matrix()可看出缺失的相关程度和隐含关系***"
   ]
  },
  {
   "cell_type": "markdown",
   "metadata": {},
   "source": [
    "1. 直接删除含有缺失值的样本，尽量不要删，数据量大时，如果要删低于5%  \n",
    "2. 使用普通的统计方法或根据业务经验填补，经验最为有效。  \n",
    "3. 将缺失值作为一个单独的独立编码，缺失本身是一种信息。  \n",
    "4. 使用算法进行填补，实际业务中比较少用，因为新增进来样本后，填充值又会变。    \n",
    "如果需要较好的可视化缺失值的缺失状况，可以使用绘制缺失值的包来完成："
   ]
  },
  {
   "cell_type": "code",
   "execution_count": 4,
   "metadata": {},
   "outputs": [
    {
     "data": {
      "text/plain": [
       "5400.0"
      ]
     },
     "execution_count": 4,
     "metadata": {},
     "output_type": "execute_result"
    }
   ],
   "source": [
    "median = train.MonthlyIncome.median()\n",
    "median"
   ]
  },
  {
   "cell_type": "code",
   "execution_count": 5,
   "metadata": {},
   "outputs": [],
   "source": [
    "train.MonthlyIncome.fillna(value=median, inplace=True)"
   ]
  },
  {
   "cell_type": "markdown",
   "metadata": {},
   "source": [
    "***注意：填充是一个定值，median得是一个具体的数***"
   ]
  },
  {
   "cell_type": "code",
   "execution_count": 6,
   "metadata": {},
   "outputs": [],
   "source": [
    "train_data=train.dropna()#删除比较少的缺失值"
   ]
  },
  {
   "cell_type": "markdown",
   "metadata": {},
   "source": [
    "NumberOfDependents变量缺失值比较少，直接删除，对总体模型不会造成太大影响。对缺失值处理完之后，删除重复项"
   ]
  },
  {
   "cell_type": "code",
   "execution_count": 7,
   "metadata": {},
   "outputs": [
    {
     "data": {
      "text/plain": [
       "(145563, 11)"
      ]
     },
     "execution_count": 7,
     "metadata": {},
     "output_type": "execute_result"
    }
   ],
   "source": [
    "train_data.shape"
   ]
  },
  {
   "cell_type": "code",
   "execution_count": 81,
   "metadata": {},
   "outputs": [
    {
     "data": {
      "text/plain": [
       "SeriousDlqin2yrs                        0.0\n",
       "RevolvingUtilizationOfUnsecuredLines    0.0\n",
       "age                                     0.0\n",
       "NumberOfTime30-59DaysPastDueNotWorse    0.0\n",
       "DebtRatio                               0.0\n",
       "MonthlyIncome                           0.0\n",
       "NumberOfOpenCreditLinesAndLoans         0.0\n",
       "NumberOfTimes90DaysLate                 0.0\n",
       "NumberRealEstateLoansOrLines            0.0\n",
       "NumberOfTime60-89DaysPastDueNotWorse    0.0\n",
       "NumberOfDependents                      0.0\n",
       "dtype: float64"
      ]
     },
     "execution_count": 81,
     "metadata": {},
     "output_type": "execute_result"
    }
   ],
   "source": [
    "train_data.isnull().mean()"
   ]
  },
  {
   "cell_type": "markdown",
   "metadata": {},
   "source": [
    "### 异常值处理"
   ]
  },
  {
   "cell_type": "markdown",
   "metadata": {},
   "source": [
    "异常值一般是从统计上看起来异常，但是很多时候并不代表这条数据是错误的，可能只是这条观测\n",
    "和普遍情况不同而已，处理时需要谨慎。这里举一例 age 字段中包含有为 0 的值，通常认为该值为异常\n",
    "值，查看数据可以发现仅有一条数据年龄为 0，因此可以直接删除。"
   ]
  },
  {
   "cell_type": "code",
   "execution_count": 82,
   "metadata": {
    "collapsed": true
   },
   "outputs": [
    {
     "data": {
      "text/plain": [
       "0         1\n",
       "21      136\n",
       "22      340\n",
       "23      557\n",
       "24      736\n",
       "25      898\n",
       "26     1142\n",
       "27     1275\n",
       "28     1516\n",
       "29     1657\n",
       "30     1893\n",
       "31     2012\n",
       "32     2017\n",
       "33     2219\n",
       "34     2121\n",
       "35     2211\n",
       "36     2340\n",
       "37     2480\n",
       "38     2595\n",
       "39     2961\n",
       "40     3052\n",
       "41     3092\n",
       "42     3052\n",
       "43     3182\n",
       "44     3273\n",
       "45     3463\n",
       "46     3656\n",
       "47     3671\n",
       "48     3734\n",
       "49     3779\n",
       "       ... \n",
       "74     1371\n",
       "75     1164\n",
       "76     1112\n",
       "77     1026\n",
       "78      985\n",
       "79      908\n",
       "80      819\n",
       "81      704\n",
       "82      592\n",
       "83      456\n",
       "84      435\n",
       "85      431\n",
       "86      364\n",
       "87      306\n",
       "88      263\n",
       "89      241\n",
       "90      163\n",
       "91      122\n",
       "92       81\n",
       "93       70\n",
       "94       35\n",
       "95       37\n",
       "96       14\n",
       "97       12\n",
       "98        5\n",
       "99        4\n",
       "101       3\n",
       "102       3\n",
       "103       3\n",
       "107       1\n",
       "Name: age, Length: 84, dtype: int64"
      ]
     },
     "execution_count": 82,
     "metadata": {},
     "output_type": "execute_result"
    }
   ],
   "source": [
    "train_data.age.value_counts().sort_index()"
   ]
  },
  {
   "cell_type": "code",
   "execution_count": 9,
   "metadata": {},
   "outputs": [],
   "source": [
    "train_data = train_data.loc[train_data.age>0]"
   ]
  },
  {
   "cell_type": "code",
   "execution_count": 10,
   "metadata": {},
   "outputs": [
    {
     "data": {
      "image/png": "[encoded data removed]",
      "text/plain": [
       "<Figure size 432x288 with 1 Axes>"
      ]
     },
     "metadata": {
      "needs_background": "light"
     },
     "output_type": "display_data"
    }
   ],
   "source": [
    "import matplotlib.pyplot as plt\n",
    "columns = [\"NumberOfTime30-59DaysPastDueNotWorse\",\n",
    "\"NumberOfTime60-89DaysPastDueNotWorse\",\n",
    "\"NumberOfTimes90DaysLate\"]\n",
    "train_data[columns].plot.box(vert=False);"
   ]
  },
  {
   "cell_type": "code",
   "execution_count": 11,
   "metadata": {},
   "outputs": [],
   "source": [
    "#删除两个异常值\n",
    "for col in columns:\n",
    "    train_data = train_data.loc[train_data[col] < 90]"
   ]
  },
  {
   "cell_type": "code",
   "execution_count": 12,
   "metadata": {},
   "outputs": [
    {
     "data": {
      "image/png": "[encoded data removed]",
      "text/plain": [
       "<Figure size 432x288 with 1 Axes>"
      ]
     },
     "metadata": {
      "needs_background": "light"
     },
     "output_type": "display_data"
    }
   ],
   "source": [
    "train_data['MonthlyIncome'].plot.box(vert=False);"
   ]
  },
  {
   "cell_type": "code",
   "execution_count": 13,
   "metadata": {},
   "outputs": [],
   "source": [
    "#删除月收入中两个异常离群点\n",
    "train_data=train_data[train_data.MonthlyIncome<1500000]"
   ]
  },
  {
   "cell_type": "code",
   "execution_count": 100,
   "metadata": {},
   "outputs": [
    {
     "data": {
      "text/plain": [
       "3260"
      ]
     },
     "execution_count": 100,
     "metadata": {},
     "output_type": "execute_result"
    }
   ],
   "source": [
    "#贷款以及信用卡可用额度与总额度比例\n",
    "len(train_data[train_data.RevolvingUtilizationOfUnsecuredLines>1])"
   ]
  },
  {
   "cell_type": "code",
   "execution_count": 89,
   "metadata": {},
   "outputs": [
    {
     "data": {
      "text/plain": [
       "31663"
      ]
     },
     "execution_count": 89,
     "metadata": {},
     "output_type": "execute_result"
    }
   ],
   "source": [
    "len(train_data[train_data.DebtRatio>1])"
   ]
  },
  {
   "cell_type": "markdown",
   "metadata": {},
   "source": [
    "### 数据集划分"
   ]
  },
  {
   "cell_type": "code",
   "execution_count": 14,
   "metadata": {},
   "outputs": [],
   "source": [
    "from sklearn.model_selection import train_test_split"
   ]
  },
  {
   "cell_type": "markdown",
   "metadata": {},
   "source": [
    "数据集的划分原则上应当在缺失值和异常值处理之前就进行，也就是说从数据预处理阶段开始， 验\n",
    "证集和测试集就不应参与到模型构建的各个阶段中来，而应仅使用训练集得到的信息，这样才能有效严\n",
    "谨的保证模型验证和评估不会出现潜在的过拟合问题。此外，**因为评分卡与其他机器学习略有区别，评\n",
    "分卡的数据是带有时间因素的而并非单纯的截面数据，因此，在划分数据集的时候，应当使用更早时间\n",
    "段的数据作为训练集，稍晚和最晚的时间段的数据分别作为验证集和测试集。**同时，合理划分数据集后\n",
    "应当保证训练集、验证集和测试集和数据分布应当相同。"
   ]
  },
  {
   "cell_type": "code",
   "execution_count": 15,
   "metadata": {},
   "outputs": [],
   "source": [
    "Y = train_data['SeriousDlqin2yrs']\n",
    "X = train_data.iloc[:, 1:]\n",
    "X_train, X_vali, Y_train, Y_vali = train_test_split(X, Y, test_size=0.3,random_state=420)"
   ]
  },
  {
   "cell_type": "code",
   "execution_count": 16,
   "metadata": {},
   "outputs": [],
   "source": [
    "model_data = pd.concat([Y_train, X_train], axis=1)\n",
    "vali_data = pd.concat([Y_vali, X_vali], axis=1)"
   ]
  },
  {
   "cell_type": "markdown",
   "metadata": {},
   "source": [
    "**探索性数据分析**"
   ]
  },
  {
   "cell_type": "markdown",
   "metadata": {},
   "source": [
    "探索性数据分析是一系列的方法，它的目的就是让你最大化对数据的直觉，了解数据中包含哪些信\n",
    "息并且不包含哪些信息。为了直观展示通常我们会利用一些基本的图形绘制：直方图、散点图和箱线图\n",
    "等。少数情况下会使用一些高级图形展示变量之间的关系等等。"
   ]
  },
  {
   "cell_type": "code",
   "execution_count": 17,
   "metadata": {},
   "outputs": [
    {
     "data": {
      "text/plain": [
       "0    94906\n",
       "1     6839\n",
       "Name: SeriousDlqin2yrs, dtype: int64"
      ]
     },
     "execution_count": 17,
     "metadata": {},
     "output_type": "execute_result"
    }
   ],
   "source": [
    "model_data[\"SeriousDlqin2yrs\"].value_counts()"
   ]
  },
  {
   "cell_type": "markdown",
   "metadata": {},
   "source": [
    "样本均衡问题：\n",
    "欠采样"
   ]
  },
  {
   "cell_type": "code",
   "execution_count": 18,
   "metadata": {},
   "outputs": [
    {
     "data": {
      "image/png": "[encoded data removed]",
      "text/plain": [
       "<Figure size 432x288 with 1 Axes>"
      ]
     },
     "metadata": {
      "needs_background": "light"
     },
     "output_type": "display_data"
    }
   ],
   "source": [
    "model_data[\"age\"].plot.hist(bins=30);"
   ]
  },
  {
   "cell_type": "code",
   "execution_count": 113,
   "metadata": {},
   "outputs": [
    {
     "data": {
      "image/png": "[encoded data removed]",
      "text/plain": [
       "<Figure size 432x288 with 1 Axes>"
      ]
     },
     "metadata": {
      "needs_background": "light"
     },
     "output_type": "display_data"
    }
   ],
   "source": [
    "# 可以看出收入有少部分人非常高，使用小于 99% 的分位数的数据查看收入分布\n",
    "income = model_data[\"MonthlyIncome\"]\n",
    "income.loc[income < 23334].plot.hist(bins=50);"
   ]
  },
  {
   "cell_type": "code",
   "execution_count": 19,
   "metadata": {},
   "outputs": [
    {
     "data": {
      "text/html": [
       "<div>\n",
       "<style scoped>\n",
       "    .dataframe tbody tr th:only-of-type {\n",
       "        vertical-align: middle;\n",
       "    }\n",
       "\n",
       "    .dataframe tbody tr th {\n",
       "        vertical-align: top;\n",
       "    }\n",
       "\n",
       "    .dataframe thead th {\n",
       "        text-align: right;\n",
       "    }\n",
       "</style>\n",
       "<table border=\"1\" class=\"dataframe\">\n",
       "  <thead>\n",
       "    <tr style=\"text-align: right;\">\n",
       "      <th></th>\n",
       "      <th>SeriousDlqin2yrs</th>\n",
       "      <th>RevolvingUtilizationOfUnsecuredLines</th>\n",
       "      <th>age</th>\n",
       "      <th>NumberOfTime30-59DaysPastDueNotWorse</th>\n",
       "      <th>DebtRatio</th>\n",
       "      <th>MonthlyIncome</th>\n",
       "      <th>NumberOfOpenCreditLinesAndLoans</th>\n",
       "      <th>NumberOfTimes90DaysLate</th>\n",
       "      <th>NumberRealEstateLoansOrLines</th>\n",
       "      <th>NumberOfTime60-89DaysPastDueNotWorse</th>\n",
       "      <th>NumberOfDependents</th>\n",
       "    </tr>\n",
       "  </thead>\n",
       "  <tbody>\n",
       "    <tr>\n",
       "      <th>SeriousDlqin2yrs</th>\n",
       "      <td>1.000000</td>\n",
       "      <td>-0.001361</td>\n",
       "      <td>-0.112278</td>\n",
       "      <td>0.278020</td>\n",
       "      <td>-0.007087</td>\n",
       "      <td>-0.025051</td>\n",
       "      <td>-0.026755</td>\n",
       "      <td>0.310733</td>\n",
       "      <td>-0.003876</td>\n",
       "      <td>0.265469</td>\n",
       "      <td>0.048276</td>\n",
       "    </tr>\n",
       "    <tr>\n",
       "      <th>RevolvingUtilizationOfUnsecuredLines</th>\n",
       "      <td>-0.001361</td>\n",
       "      <td>1.000000</td>\n",
       "      <td>-0.005060</td>\n",
       "      <td>-0.002144</td>\n",
       "      <td>0.004837</td>\n",
       "      <td>0.011522</td>\n",
       "      <td>-0.011967</td>\n",
       "      <td>-0.000871</td>\n",
       "      <td>0.007427</td>\n",
       "      <td>-0.002277</td>\n",
       "      <td>0.003070</td>\n",
       "    </tr>\n",
       "    <tr>\n",
       "      <th>age</th>\n",
       "      <td>-0.112278</td>\n",
       "      <td>-0.005060</td>\n",
       "      <td>1.000000</td>\n",
       "      <td>-0.072370</td>\n",
       "      <td>0.030540</td>\n",
       "      <td>0.043104</td>\n",
       "      <td>0.154047</td>\n",
       "      <td>-0.082846</td>\n",
       "      <td>0.039262</td>\n",
       "      <td>-0.070127</td>\n",
       "      <td>-0.216198</td>\n",
       "    </tr>\n",
       "    <tr>\n",
       "      <th>NumberOfTime30-59DaysPastDueNotWorse</th>\n",
       "      <td>0.278020</td>\n",
       "      <td>-0.002144</td>\n",
       "      <td>-0.072370</td>\n",
       "      <td>1.000000</td>\n",
       "      <td>0.004762</td>\n",
       "      <td>0.001160</td>\n",
       "      <td>0.075723</td>\n",
       "      <td>0.218165</td>\n",
       "      <td>0.035028</td>\n",
       "      <td>0.303866</td>\n",
       "      <td>0.063386</td>\n",
       "    </tr>\n",
       "    <tr>\n",
       "      <th>DebtRatio</th>\n",
       "      <td>-0.007087</td>\n",
       "      <td>0.004837</td>\n",
       "      <td>0.030540</td>\n",
       "      <td>0.004762</td>\n",
       "      <td>1.000000</td>\n",
       "      <td>-0.032970</td>\n",
       "      <td>0.060028</td>\n",
       "      <td>-0.011682</td>\n",
       "      <td>0.135256</td>\n",
       "      <td>-0.003115</td>\n",
       "      <td>-0.052877</td>\n",
       "    </tr>\n",
       "    <tr>\n",
       "      <th>MonthlyIncome</th>\n",
       "      <td>-0.025051</td>\n",
       "      <td>0.011522</td>\n",
       "      <td>0.043104</td>\n",
       "      <td>0.001160</td>\n",
       "      <td>-0.032970</td>\n",
       "      <td>1.000000</td>\n",
       "      <td>0.125162</td>\n",
       "      <td>-0.027680</td>\n",
       "      <td>0.171303</td>\n",
       "      <td>-0.013000</td>\n",
       "      <td>0.092605</td>\n",
       "    </tr>\n",
       "    <tr>\n",
       "      <th>NumberOfOpenCreditLinesAndLoans</th>\n",
       "      <td>-0.026755</td>\n",
       "      <td>-0.011967</td>\n",
       "      <td>0.154047</td>\n",
       "      <td>0.075723</td>\n",
       "      <td>0.060028</td>\n",
       "      <td>0.125162</td>\n",
       "      <td>1.000000</td>\n",
       "      <td>-0.099074</td>\n",
       "      <td>0.426511</td>\n",
       "      <td>-0.026072</td>\n",
       "      <td>0.062629</td>\n",
       "    </tr>\n",
       "    <tr>\n",
       "      <th>NumberOfTimes90DaysLate</th>\n",
       "      <td>0.310733</td>\n",
       "      <td>-0.000871</td>\n",
       "      <td>-0.082846</td>\n",
       "      <td>0.218165</td>\n",
       "      <td>-0.011682</td>\n",
       "      <td>-0.027680</td>\n",
       "      <td>-0.099074</td>\n",
       "      <td>1.000000</td>\n",
       "      <td>-0.068220</td>\n",
       "      <td>0.285840</td>\n",
       "      <td>0.030681</td>\n",
       "    </tr>\n",
       "    <tr>\n",
       "      <th>NumberRealEstateLoansOrLines</th>\n",
       "      <td>-0.003876</td>\n",
       "      <td>0.007427</td>\n",
       "      <td>0.039262</td>\n",
       "      <td>0.035028</td>\n",
       "      <td>0.135256</td>\n",
       "      <td>0.171303</td>\n",
       "      <td>0.426511</td>\n",
       "      <td>-0.068220</td>\n",
       "      <td>1.000000</td>\n",
       "      <td>-0.023944</td>\n",
       "      <td>0.122187</td>\n",
       "    </tr>\n",
       "    <tr>\n",
       "      <th>NumberOfTime60-89DaysPastDueNotWorse</th>\n",
       "      <td>0.265469</td>\n",
       "      <td>-0.002277</td>\n",
       "      <td>-0.070127</td>\n",
       "      <td>0.303866</td>\n",
       "      <td>-0.003115</td>\n",
       "      <td>-0.013000</td>\n",
       "      <td>-0.026072</td>\n",
       "      <td>0.285840</td>\n",
       "      <td>-0.023944</td>\n",
       "      <td>1.000000</td>\n",
       "      <td>0.036948</td>\n",
       "    </tr>\n",
       "    <tr>\n",
       "      <th>NumberOfDependents</th>\n",
       "      <td>0.048276</td>\n",
       "      <td>0.003070</td>\n",
       "      <td>-0.216198</td>\n",
       "      <td>0.063386</td>\n",
       "      <td>-0.052877</td>\n",
       "      <td>0.092605</td>\n",
       "      <td>0.062629</td>\n",
       "      <td>0.030681</td>\n",
       "      <td>0.122187</td>\n",
       "      <td>0.036948</td>\n",
       "      <td>1.000000</td>\n",
       "    </tr>\n",
       "  </tbody>\n",
       "</table>\n",
       "</div>"
      ],
      "text/plain": [
       "                                      SeriousDlqin2yrs  \\\n",
       "SeriousDlqin2yrs                              1.000000   \n",
       "RevolvingUtilizationOfUnsecuredLines         -0.001361   \n",
       "age                                          -0.112278   \n",
       "NumberOfTime30-59DaysPastDueNotWorse          0.278020   \n",
       "DebtRatio                                    -0.007087   \n",
       "MonthlyIncome                                -0.025051   \n",
       "NumberOfOpenCreditLinesAndLoans              -0.026755   \n",
       "NumberOfTimes90DaysLate                       0.310733   \n",
       "NumberRealEstateLoansOrLines                 -0.003876   \n",
       "NumberOfTime60-89DaysPastDueNotWorse          0.265469   \n",
       "NumberOfDependents                            0.048276   \n",
       "\n",
       "                                      RevolvingUtilizationOfUnsecuredLines  \\\n",
       "SeriousDlqin2yrs                                                 -0.001361   \n",
       "RevolvingUtilizationOfUnsecuredLines                              1.000000   \n",
       "age                                                              -0.005060   \n",
       "NumberOfTime30-59DaysPastDueNotWorse                             -0.002144   \n",
       "DebtRatio                                                         0.004837   \n",
       "MonthlyIncome                                                     0.011522   \n",
       "NumberOfOpenCreditLinesAndLoans                                  -0.011967   \n",
       "NumberOfTimes90DaysLate                                          -0.000871   \n",
       "NumberRealEstateLoansOrLines                                      0.007427   \n",
       "NumberOfTime60-89DaysPastDueNotWorse                             -0.002277   \n",
       "NumberOfDependents                                                0.003070   \n",
       "\n",
       "                                           age  \\\n",
       "SeriousDlqin2yrs                     -0.112278   \n",
       "RevolvingUtilizationOfUnsecuredLines -0.005060   \n",
       "age                                   1.000000   \n",
       "NumberOfTime30-59DaysPastDueNotWorse -0.072370   \n",
       "DebtRatio                             0.030540   \n",
       "MonthlyIncome                         0.043104   \n",
       "NumberOfOpenCreditLinesAndLoans       0.154047   \n",
       "NumberOfTimes90DaysLate              -0.082846   \n",
       "NumberRealEstateLoansOrLines          0.039262   \n",
       "NumberOfTime60-89DaysPastDueNotWorse -0.070127   \n",
       "NumberOfDependents                   -0.216198   \n",
       "\n",
       "                                      NumberOfTime30-59DaysPastDueNotWorse  \\\n",
       "SeriousDlqin2yrs                                                  0.278020   \n",
       "RevolvingUtilizationOfUnsecuredLines                             -0.002144   \n",
       "age                                                              -0.072370   \n",
       "NumberOfTime30-59DaysPastDueNotWorse                              1.000000   \n",
       "DebtRatio                                                         0.004762   \n",
       "MonthlyIncome                                                     0.001160   \n",
       "NumberOfOpenCreditLinesAndLoans                                   0.075723   \n",
       "NumberOfTimes90DaysLate                                           0.218165   \n",
       "NumberRealEstateLoansOrLines                                      0.035028   \n",
       "NumberOfTime60-89DaysPastDueNotWorse                              0.303866   \n",
       "NumberOfDependents                                                0.063386   \n",
       "\n",
       "                                      DebtRatio  MonthlyIncome  \\\n",
       "SeriousDlqin2yrs                      -0.007087      -0.025051   \n",
       "RevolvingUtilizationOfUnsecuredLines   0.004837       0.011522   \n",
       "age                                    0.030540       0.043104   \n",
       "NumberOfTime30-59DaysPastDueNotWorse   0.004762       0.001160   \n",
       "DebtRatio                              1.000000      -0.032970   \n",
       "MonthlyIncome                         -0.032970       1.000000   \n",
       "NumberOfOpenCreditLinesAndLoans        0.060028       0.125162   \n",
       "NumberOfTimes90DaysLate               -0.011682      -0.027680   \n",
       "NumberRealEstateLoansOrLines           0.135256       0.171303   \n",
       "NumberOfTime60-89DaysPastDueNotWorse  -0.003115      -0.013000   \n",
       "NumberOfDependents                    -0.052877       0.092605   \n",
       "\n",
       "                                      NumberOfOpenCreditLinesAndLoans  \\\n",
       "SeriousDlqin2yrs                                            -0.026755   \n",
       "RevolvingUtilizationOfUnsecuredLines                        -0.011967   \n",
       "age                                                          0.154047   \n",
       "NumberOfTime30-59DaysPastDueNotWorse                         0.075723   \n",
       "DebtRatio                                                    0.060028   \n",
       "MonthlyIncome                                                0.125162   \n",
       "NumberOfOpenCreditLinesAndLoans                              1.000000   \n",
       "NumberOfTimes90DaysLate                                     -0.099074   \n",
       "NumberRealEstateLoansOrLines                                 0.426511   \n",
       "NumberOfTime60-89DaysPastDueNotWorse                        -0.026072   \n",
       "NumberOfDependents                                           0.062629   \n",
       "\n",
       "                                      NumberOfTimes90DaysLate  \\\n",
       "SeriousDlqin2yrs                                     0.310733   \n",
       "RevolvingUtilizationOfUnsecuredLines                -0.000871   \n",
       "age                                                 -0.082846   \n",
       "NumberOfTime30-59DaysPastDueNotWorse                 0.218165   \n",
       "DebtRatio                                           -0.011682   \n",
       "MonthlyIncome                                       -0.027680   \n",
       "NumberOfOpenCreditLinesAndLoans                     -0.099074   \n",
       "NumberOfTimes90DaysLate                              1.000000   \n",
       "NumberRealEstateLoansOrLines                        -0.068220   \n",
       "NumberOfTime60-89DaysPastDueNotWorse                 0.285840   \n",
       "NumberOfDependents                                   0.030681   \n",
       "\n",
       "                                      NumberRealEstateLoansOrLines  \\\n",
       "SeriousDlqin2yrs                                         -0.003876   \n",
       "RevolvingUtilizationOfUnsecuredLines                      0.007427   \n",
       "age                                                       0.039262   \n",
       "NumberOfTime30-59DaysPastDueNotWorse                      0.035028   \n",
       "DebtRatio                                                 0.135256   \n",
       "MonthlyIncome                                             0.171303   \n",
       "NumberOfOpenCreditLinesAndLoans                           0.426511   \n",
       "NumberOfTimes90DaysLate                                  -0.068220   \n",
       "NumberRealEstateLoansOrLines                              1.000000   \n",
       "NumberOfTime60-89DaysPastDueNotWorse                     -0.023944   \n",
       "NumberOfDependents                                        0.122187   \n",
       "\n",
       "                                      NumberOfTime60-89DaysPastDueNotWorse  \\\n",
       "SeriousDlqin2yrs                                                  0.265469   \n",
       "RevolvingUtilizationOfUnsecuredLines                             -0.002277   \n",
       "age                                                              -0.070127   \n",
       "NumberOfTime30-59DaysPastDueNotWorse                              0.303866   \n",
       "DebtRatio                                                        -0.003115   \n",
       "MonthlyIncome                                                    -0.013000   \n",
       "NumberOfOpenCreditLinesAndLoans                                  -0.026072   \n",
       "NumberOfTimes90DaysLate                                           0.285840   \n",
       "NumberRealEstateLoansOrLines                                     -0.023944   \n",
       "NumberOfTime60-89DaysPastDueNotWorse                              1.000000   \n",
       "NumberOfDependents                                                0.036948   \n",
       "\n",
       "                                      NumberOfDependents  \n",
       "SeriousDlqin2yrs                                0.048276  \n",
       "RevolvingUtilizationOfUnsecuredLines            0.003070  \n",
       "age                                            -0.216198  \n",
       "NumberOfTime30-59DaysPastDueNotWorse            0.063386  \n",
       "DebtRatio                                      -0.052877  \n",
       "MonthlyIncome                                   0.092605  \n",
       "NumberOfOpenCreditLinesAndLoans                 0.062629  \n",
       "NumberOfTimes90DaysLate                         0.030681  \n",
       "NumberRealEstateLoansOrLines                    0.122187  \n",
       "NumberOfTime60-89DaysPastDueNotWorse            0.036948  \n",
       "NumberOfDependents                              1.000000  "
      ]
     },
     "execution_count": 19,
     "metadata": {},
     "output_type": "execute_result"
    }
   ],
   "source": [
    "model_data.corr()#.to_excel(\"CorrData.xlsx\")..相关性高的可以后期留意，先不删除"
   ]
  },
  {
   "cell_type": "markdown",
   "metadata": {},
   "source": [
    "**对数据进行分箱**"
   ]
  },
  {
   "cell_type": "markdown",
   "metadata": {},
   "source": [
    "分箱一般原则：  \n",
    "• 组间差异大  \n",
    "• 组内差异小  \n",
    "• 每组占比不低于 5%  \n",
    "• 必须有好、坏两种分类  "
   ]
  },
  {
   "cell_type": "markdown",
   "metadata": {},
   "source": [
    "WOE对分箱后的每组进行计算  \n",
    "IV衡量的是某一个变量的信息量"
   ]
  },
  {
   "cell_type": "code",
   "execution_count": 20,
   "metadata": {},
   "outputs": [],
   "source": [
    "from auto_bin1 import AutoBins"
   ]
  },
  {
   "cell_type": "code",
   "execution_count": 21,
   "metadata": {},
   "outputs": [],
   "source": [
    "bins_data = AutoBins(model_data, \"SeriousDlqin2yrs\")"
   ]
  },
  {
   "cell_type": "code",
   "execution_count": 27,
   "metadata": {},
   "outputs": [],
   "source": [
    "# 分析过程中手动完成分箱个数的添加\n",
    "bins_num = {\n",
    "\"RevolvingUtilizationOfUnsecuredLines\":5,\n",
    "\"age\":4,\n",
    "\"NumberOfTime30-59DaysPastDueNotWorse\":3,\n",
    "\"DebtRatio\":5,\n",
    "\"MonthlyIncome\":6,\n",
    "\"NumberOfOpenCreditLinesAndLoans\":4,\n",
    "\"NumberOfTimes90DaysLate\":2,\n",
    "\"NumberRealEstateLoansOrLines\":4,\n",
    "\"NumberOfTime60-89DaysPastDueNotWorse\":2,\n",
    "\"NumberOfDependents\":4,\n",
    "}"
   ]
  },
  {
   "cell_type": "code",
   "execution_count": 25,
   "metadata": {
    "scrolled": true
   },
   "outputs": [
    {
     "name": "stdout",
     "output_type": "stream",
     "text": [
      "对 NumberOfTime30-59DaysPastDueNotWorse 列进行分箱: \n",
      "分组个数: 03 \tiv值: 0.7194233444389856\n",
      "分组个数: 02 \tiv值: 0.6455296974515246\n",
      "\n",
      "最后分箱情况: \n",
      "分组个数: 02 \tiv值: 0.6455296974515246\n",
      "\n",
      "分组woe情况：\n",
      "        min       max  count_0  count_1  total  percentage  bad_rate       woe\n",
      "0      -inf  0.000000    81925     3469  85394    0.839294  0.040623  0.531692\n",
      "1  0.000000       inf    12981     3370  16351    0.160706  0.206104 -1.281671\n"
     ]
    }
   ],
   "source": [
    "# 通过下面的函数来完成分箱个数的判断 箱体是前开后闭\n",
    "num_bins, woe_df, iv = bins_data.auto_bins(\"NumberOfTime30-59DaysPastDueNotWorse\",n=2)"
   ]
  },
  {
   "cell_type": "code",
   "execution_count": null,
   "metadata": {},
   "outputs": [],
   "source": [
    "pd.cut(model_data[\"NumberOfTime30-59DaysPastDueNotWorse\"],q=20)"
   ]
  },
  {
   "cell_type": "code",
   "execution_count": 29,
   "metadata": {},
   "outputs": [
    {
     "name": "stdout",
     "output_type": "stream",
     "text": [
      "对 RevolvingUtilizationOfUnsecuredLines 列进行分箱: \n",
      "对 age 列进行分箱: \n",
      "对 NumberOfTime30-59DaysPastDueNotWorse 列进行分箱: \n",
      "对 DebtRatio 列进行分箱: \n",
      "对 MonthlyIncome 列进行分箱: \n",
      "对 NumberOfOpenCreditLinesAndLoans 列进行分箱: \n",
      "对 NumberOfTimes90DaysLate 列进行分箱: \n",
      "对 NumberRealEstateLoansOrLines 列进行分箱: \n",
      "对 NumberOfTime60-89DaysPastDueNotWorse 列进行分箱: \n",
      "对 NumberOfDependents 列进行分箱: \n"
     ]
    }
   ],
   "source": [
    "info_values = {}\n",
    "woe_values = {}\n",
    "bins_values = {}\n",
    "for key in bins_num:\n",
    "    num_bins, woe_df, iv = bins_data.auto_bins(key, n=bins_num[key], show_iv=False)\n",
    "    info_values[key] = iv\n",
    "    woe_values[key] = woe_df\n",
    "    bins_values[key] = [x[0] for x in num_bins] + [float(\"inf\")]"
   ]
  },
  {
   "cell_type": "code",
   "execution_count": 30,
   "metadata": {},
   "outputs": [
    {
     "data": {
      "text/plain": [
       "{'RevolvingUtilizationOfUnsecuredLines': 1.0858584698176401,\n",
       " 'age': 0.23555901370702903,\n",
       " 'NumberOfTime30-59DaysPastDueNotWorse': 0.7194233444389856,\n",
       " 'DebtRatio': 0.0651398297149175,\n",
       " 'MonthlyIncome': 0.06616353270349919,\n",
       " 'NumberOfOpenCreditLinesAndLoans': 0.07003825591078296,\n",
       " 'NumberOfTimes90DaysLate': 0.7879473299200853,\n",
       " 'NumberRealEstateLoansOrLines': 0.05528288857917417,\n",
       " 'NumberOfTime60-89DaysPastDueNotWorse': 0.526035654576219,\n",
       " 'NumberOfDependents': 0.03569085553468077}"
      ]
     },
     "execution_count": 30,
     "metadata": {},
     "output_type": "execute_result"
    }
   ],
   "source": [
    "info_values"
   ]
  },
  {
   "cell_type": "code",
   "execution_count": 33,
   "metadata": {},
   "outputs": [
    {
     "data": {
      "image/png": "[encoded data removed]",
      "text/plain": [
       "<Figure size 432x288 with 1 Axes>"
      ]
     },
     "metadata": {
      "needs_background": "light"
     },
     "output_type": "display_data"
    }
   ],
   "source": [
    "def plt_iv(info_values):\n",
    "    keys,values = zip(*info_values.items())\n",
    "    nums = range(len(keys))\n",
    "    plt.barh(nums,values)\n",
    "    plt.yticks(nums,keys)\n",
    "    for i, v in enumerate(values):\n",
    "        plt.text(v, i-.2, f\"{v:.2f}\")\n",
    "plt_iv(info_values)"
   ]
  },
  {
   "cell_type": "markdown",
   "metadata": {},
   "source": [
    "可以看出 NumberRealEstateLoansOrLines 和 NumberOfDependents 变量的 IV 值明显较低，所\n",
    "以予以删除。 DebtRatio、 MonthlyIncome、 NumberOfOpenCreditLinesAndLoans 等变量可以考虑删\n",
    "除也可以予以保留。"
   ]
  },
  {
   "cell_type": "markdown",
   "metadata": {},
   "source": [
    "# 模型构建"
   ]
  },
  {
   "cell_type": "code",
   "execution_count": 35,
   "metadata": {},
   "outputs": [],
   "source": [
    "model_woe = pd.DataFrame(index=model_data.index)"
   ]
  },
  {
   "cell_type": "code",
   "execution_count": 34,
   "metadata": {},
   "outputs": [
    {
     "data": {
      "text/html": [
       "<div>\n",
       "<style scoped>\n",
       "    .dataframe tbody tr th:only-of-type {\n",
       "        vertical-align: middle;\n",
       "    }\n",
       "\n",
       "    .dataframe tbody tr th {\n",
       "        vertical-align: top;\n",
       "    }\n",
       "\n",
       "    .dataframe thead th {\n",
       "        text-align: right;\n",
       "    }\n",
       "</style>\n",
       "<table border=\"1\" class=\"dataframe\">\n",
       "  <thead>\n",
       "    <tr style=\"text-align: right;\">\n",
       "      <th></th>\n",
       "      <th>min</th>\n",
       "      <th>max</th>\n",
       "      <th>count_0</th>\n",
       "      <th>count_1</th>\n",
       "      <th>total</th>\n",
       "      <th>percentage</th>\n",
       "      <th>bad_rate</th>\n",
       "      <th>woe</th>\n",
       "    </tr>\n",
       "  </thead>\n",
       "  <tbody>\n",
       "    <tr>\n",
       "      <th>0</th>\n",
       "      <td>-inf</td>\n",
       "      <td>36.000000</td>\n",
       "      <td>14288</td>\n",
       "      <td>1744</td>\n",
       "      <td>16032</td>\n",
       "      <td>0.157570</td>\n",
       "      <td>0.108782</td>\n",
       "      <td>-0.527007</td>\n",
       "    </tr>\n",
       "    <tr>\n",
       "      <th>1</th>\n",
       "      <td>36.000000</td>\n",
       "      <td>56.000000</td>\n",
       "      <td>42920</td>\n",
       "      <td>3715</td>\n",
       "      <td>46635</td>\n",
       "      <td>0.458352</td>\n",
       "      <td>0.079661</td>\n",
       "      <td>-0.183286</td>\n",
       "    </tr>\n",
       "    <tr>\n",
       "      <th>2</th>\n",
       "      <td>56.000000</td>\n",
       "      <td>62.000000</td>\n",
       "      <td>13247</td>\n",
       "      <td>706</td>\n",
       "      <td>13953</td>\n",
       "      <td>0.137137</td>\n",
       "      <td>0.050598</td>\n",
       "      <td>0.301666</td>\n",
       "    </tr>\n",
       "    <tr>\n",
       "      <th>3</th>\n",
       "      <td>62.000000</td>\n",
       "      <td>inf</td>\n",
       "      <td>24451</td>\n",
       "      <td>674</td>\n",
       "      <td>25125</td>\n",
       "      <td>0.246941</td>\n",
       "      <td>0.026826</td>\n",
       "      <td>0.960951</td>\n",
       "    </tr>\n",
       "  </tbody>\n",
       "</table>\n",
       "</div>"
      ],
      "text/plain": [
       "         min        max  count_0  count_1  total  percentage  bad_rate  \\\n",
       "0       -inf  36.000000    14288     1744  16032    0.157570  0.108782   \n",
       "1  36.000000  56.000000    42920     3715  46635    0.458352  0.079661   \n",
       "2  56.000000  62.000000    13247      706  13953    0.137137  0.050598   \n",
       "3  62.000000        inf    24451      674  25125    0.246941  0.026826   \n",
       "\n",
       "        woe  \n",
       "0 -0.527007  \n",
       "1 -0.183286  \n",
       "2  0.301666  \n",
       "3  0.960951  "
      ]
     },
     "execution_count": 34,
     "metadata": {},
     "output_type": "execute_result"
    }
   ],
   "source": [
    "woe_values['age']#[\"woe\"]"
   ]
  },
  {
   "cell_type": "code",
   "execution_count": 37,
   "metadata": {},
   "outputs": [],
   "source": [
    "#分箱做woe转换，而不是用哑变量\n",
    "for col in bins_values:\n",
    "    bins = bins_values[col]#取出截取值\n",
    "    labels = woe_values[col][\"woe\"]#取出对应woe值\n",
    "    model_woe[col] = pd.cut(model_data[col], bins, labels=labels).astype(float)"
   ]
  },
  {
   "cell_type": "code",
   "execution_count": 38,
   "metadata": {},
   "outputs": [],
   "source": [
    "model_woe[\"SeriousDlqin2yrs\"] = model_data[\"SeriousDlqin2yrs\"]"
   ]
  },
  {
   "cell_type": "code",
   "execution_count": 39,
   "metadata": {},
   "outputs": [
    {
     "data": {
      "text/html": [
       "<div>\n",
       "<style scoped>\n",
       "    .dataframe tbody tr th:only-of-type {\n",
       "        vertical-align: middle;\n",
       "    }\n",
       "\n",
       "    .dataframe tbody tr th {\n",
       "        vertical-align: top;\n",
       "    }\n",
       "\n",
       "    .dataframe thead th {\n",
       "        text-align: right;\n",
       "    }\n",
       "</style>\n",
       "<table border=\"1\" class=\"dataframe\">\n",
       "  <thead>\n",
       "    <tr style=\"text-align: right;\">\n",
       "      <th></th>\n",
       "      <th>RevolvingUtilizationOfUnsecuredLines</th>\n",
       "      <th>age</th>\n",
       "      <th>NumberOfTime30-59DaysPastDueNotWorse</th>\n",
       "      <th>DebtRatio</th>\n",
       "      <th>MonthlyIncome</th>\n",
       "      <th>NumberOfOpenCreditLinesAndLoans</th>\n",
       "      <th>NumberOfTimes90DaysLate</th>\n",
       "      <th>NumberRealEstateLoansOrLines</th>\n",
       "      <th>NumberOfTime60-89DaysPastDueNotWorse</th>\n",
       "      <th>NumberOfDependents</th>\n",
       "      <th>SeriousDlqin2yrs</th>\n",
       "    </tr>\n",
       "  </thead>\n",
       "  <tbody>\n",
       "    <tr>\n",
       "      <th>51082</th>\n",
       "      <td>0.349300</td>\n",
       "      <td>-0.183286</td>\n",
       "      <td>-0.894148</td>\n",
       "      <td>0.084376</td>\n",
       "      <td>0.068557</td>\n",
       "      <td>0.170780</td>\n",
       "      <td>0.370531</td>\n",
       "      <td>0.214991</td>\n",
       "      <td>0.270129</td>\n",
       "      <td>-0.083189</td>\n",
       "      <td>0</td>\n",
       "    </tr>\n",
       "    <tr>\n",
       "      <th>36685</th>\n",
       "      <td>1.216259</td>\n",
       "      <td>0.960951</td>\n",
       "      <td>0.531692</td>\n",
       "      <td>0.084376</td>\n",
       "      <td>0.068557</td>\n",
       "      <td>-0.024203</td>\n",
       "      <td>0.370531</td>\n",
       "      <td>0.214991</td>\n",
       "      <td>0.270129</td>\n",
       "      <td>0.156176</td>\n",
       "      <td>0</td>\n",
       "    </tr>\n",
       "    <tr>\n",
       "      <th>81734</th>\n",
       "      <td>-1.079004</td>\n",
       "      <td>-0.527007</td>\n",
       "      <td>0.531692</td>\n",
       "      <td>0.099359</td>\n",
       "      <td>-0.373632</td>\n",
       "      <td>-0.711930</td>\n",
       "      <td>0.370531</td>\n",
       "      <td>-0.224289</td>\n",
       "      <td>0.270129</td>\n",
       "      <td>0.156176</td>\n",
       "      <td>0</td>\n",
       "    </tr>\n",
       "    <tr>\n",
       "      <th>52250</th>\n",
       "      <td>1.216259</td>\n",
       "      <td>-0.183286</td>\n",
       "      <td>0.531692</td>\n",
       "      <td>0.099359</td>\n",
       "      <td>0.221996</td>\n",
       "      <td>-0.024203</td>\n",
       "      <td>0.370531</td>\n",
       "      <td>0.214991</td>\n",
       "      <td>0.270129</td>\n",
       "      <td>-0.351673</td>\n",
       "      <td>0</td>\n",
       "    </tr>\n",
       "    <tr>\n",
       "      <th>5003</th>\n",
       "      <td>-0.307275</td>\n",
       "      <td>-0.183286</td>\n",
       "      <td>0.531692</td>\n",
       "      <td>0.099359</td>\n",
       "      <td>0.441302</td>\n",
       "      <td>-0.032921</td>\n",
       "      <td>0.370531</td>\n",
       "      <td>-0.224289</td>\n",
       "      <td>0.270129</td>\n",
       "      <td>0.156176</td>\n",
       "      <td>0</td>\n",
       "    </tr>\n",
       "  </tbody>\n",
       "</table>\n",
       "</div>"
      ],
      "text/plain": [
       "       RevolvingUtilizationOfUnsecuredLines       age  \\\n",
       "51082                              0.349300 -0.183286   \n",
       "36685                              1.216259  0.960951   \n",
       "81734                             -1.079004 -0.527007   \n",
       "52250                              1.216259 -0.183286   \n",
       "5003                              -0.307275 -0.183286   \n",
       "\n",
       "       NumberOfTime30-59DaysPastDueNotWorse  DebtRatio  MonthlyIncome  \\\n",
       "51082                             -0.894148   0.084376       0.068557   \n",
       "36685                              0.531692   0.084376       0.068557   \n",
       "81734                              0.531692   0.099359      -0.373632   \n",
       "52250                              0.531692   0.099359       0.221996   \n",
       "5003                               0.531692   0.099359       0.441302   \n",
       "\n",
       "       NumberOfOpenCreditLinesAndLoans  NumberOfTimes90DaysLate  \\\n",
       "51082                         0.170780                 0.370531   \n",
       "36685                        -0.024203                 0.370531   \n",
       "81734                        -0.711930                 0.370531   \n",
       "52250                        -0.024203                 0.370531   \n",
       "5003                         -0.032921                 0.370531   \n",
       "\n",
       "       NumberRealEstateLoansOrLines  NumberOfTime60-89DaysPastDueNotWorse  \\\n",
       "51082                      0.214991                              0.270129   \n",
       "36685                      0.214991                              0.270129   \n",
       "81734                     -0.224289                              0.270129   \n",
       "52250                      0.214991                              0.270129   \n",
       "5003                      -0.224289                              0.270129   \n",
       "\n",
       "       NumberOfDependents  SeriousDlqin2yrs  \n",
       "51082           -0.083189                 0  \n",
       "36685            0.156176                 0  \n",
       "81734            0.156176                 0  \n",
       "52250           -0.351673                 0  \n",
       "5003             0.156176                 0  "
      ]
     },
     "execution_count": 39,
     "metadata": {},
     "output_type": "execute_result"
    }
   ],
   "source": [
    "model_woe.head(5)"
   ]
  },
  {
   "cell_type": "markdown",
   "metadata": {},
   "source": [
    "model_woe.to_csv('WoeData.csv',encoding=\"utf8\", index=False)"
   ]
  },
  {
   "cell_type": "code",
   "execution_count": 40,
   "metadata": {},
   "outputs": [
    {
     "name": "stdout",
     "output_type": "stream",
     "text": [
      "Optimization terminated successfully.\n",
      "         Current function value: 0.185827\n",
      "         Iterations 8\n"
     ]
    }
   ],
   "source": [
    "import statsmodels.api as sm\n",
    "#data = pd.read_csv('WoeData.csv',encoding=\"utf8\")\n",
    "data=model_woe\n",
    "# 设置因变量\n",
    "endog = data['SeriousDlqin2yrs']\n",
    "X = data.drop([\"SeriousDlqin2yrs\",\n",
    "\"NumberRealEstateLoansOrLines\",\n",
    "\"NumberOfDependents\"],axis=1)\n",
    "# 设置自变量\n",
    "exog = sm.add_constant(X)\n",
    "logit = sm.Logit(endog,exog)\n",
    "result = logit.fit()"
   ]
  },
  {
   "cell_type": "code",
   "execution_count": 41,
   "metadata": {},
   "outputs": [
    {
     "data": {
      "text/html": [
       "<table class=\"simpletable\">\n",
       "<caption>Logit Regression Results</caption>\n",
       "<tr>\n",
       "  <th>Dep. Variable:</th> <td>SeriousDlqin2yrs</td> <th>  No. Observations:  </th>  <td>101745</td> \n",
       "</tr>\n",
       "<tr>\n",
       "  <th>Model:</th>               <td>Logit</td>      <th>  Df Residuals:      </th>  <td>101736</td> \n",
       "</tr>\n",
       "<tr>\n",
       "  <th>Method:</th>               <td>MLE</td>       <th>  Df Model:          </th>  <td>     8</td> \n",
       "</tr>\n",
       "<tr>\n",
       "  <th>Date:</th>          <td>Sun, 21 Apr 2019</td> <th>  Pseudo R-squ.:     </th>  <td>0.2458</td> \n",
       "</tr>\n",
       "<tr>\n",
       "  <th>Time:</th>              <td>11:54:42</td>     <th>  Log-Likelihood:    </th> <td> -18907.</td>\n",
       "</tr>\n",
       "<tr>\n",
       "  <th>converged:</th>           <td>True</td>       <th>  LL-Null:           </th> <td> -25068.</td>\n",
       "</tr>\n",
       "<tr>\n",
       "  <th> </th>                      <td> </td>        <th>  LLR p-value:       </th>  <td> 0.000</td> \n",
       "</tr>\n",
       "</table>\n",
       "<table class=\"simpletable\">\n",
       "<tr>\n",
       "                    <td></td>                      <th>coef</th>     <th>std err</th>      <th>z</th>      <th>P>|z|</th>  <th>[0.025</th>    <th>0.975]</th>  \n",
       "</tr>\n",
       "<tr>\n",
       "  <th>const</th>                                <td>   -2.6048</td> <td>    0.015</td> <td> -171.288</td> <td> 0.000</td> <td>   -2.635</td> <td>   -2.575</td>\n",
       "</tr>\n",
       "<tr>\n",
       "  <th>RevolvingUtilizationOfUnsecuredLines</th> <td>   -0.6089</td> <td>    0.015</td> <td>  -41.375</td> <td> 0.000</td> <td>   -0.638</td> <td>   -0.580</td>\n",
       "</tr>\n",
       "<tr>\n",
       "  <th>age</th>                                  <td>   -0.4618</td> <td>    0.033</td> <td>  -14.112</td> <td> 0.000</td> <td>   -0.526</td> <td>   -0.398</td>\n",
       "</tr>\n",
       "<tr>\n",
       "  <th>NumberOfTime30-59DaysPastDueNotWorse</th> <td>   -0.5491</td> <td>    0.016</td> <td>  -34.648</td> <td> 0.000</td> <td>   -0.580</td> <td>   -0.518</td>\n",
       "</tr>\n",
       "<tr>\n",
       "  <th>DebtRatio</th>                            <td>   -0.6492</td> <td>    0.057</td> <td>  -11.300</td> <td> 0.000</td> <td>   -0.762</td> <td>   -0.537</td>\n",
       "</tr>\n",
       "<tr>\n",
       "  <th>MonthlyIncome</th>                        <td>   -0.2179</td> <td>    0.056</td> <td>   -3.864</td> <td> 0.000</td> <td>   -0.328</td> <td>   -0.107</td>\n",
       "</tr>\n",
       "<tr>\n",
       "  <th>NumberOfOpenCreditLinesAndLoans</th>      <td>   -0.2582</td> <td>    0.052</td> <td>   -4.930</td> <td> 0.000</td> <td>   -0.361</td> <td>   -0.156</td>\n",
       "</tr>\n",
       "<tr>\n",
       "  <th>NumberOfTimes90DaysLate</th>              <td>   -0.5417</td> <td>    0.014</td> <td>  -38.246</td> <td> 0.000</td> <td>   -0.569</td> <td>   -0.514</td>\n",
       "</tr>\n",
       "<tr>\n",
       "  <th>NumberOfTime60-89DaysPastDueNotWorse</th> <td>   -0.4081</td> <td>    0.017</td> <td>  -23.350</td> <td> 0.000</td> <td>   -0.442</td> <td>   -0.374</td>\n",
       "</tr>\n",
       "</table>"
      ],
      "text/plain": [
       "<class 'statsmodels.iolib.summary.Summary'>\n",
       "\"\"\"\n",
       "                           Logit Regression Results                           \n",
       "==============================================================================\n",
       "Dep. Variable:       SeriousDlqin2yrs   No. Observations:               101745\n",
       "Model:                          Logit   Df Residuals:                   101736\n",
       "Method:                           MLE   Df Model:                            8\n",
       "Date:                Sun, 21 Apr 2019   Pseudo R-squ.:                  0.2458\n",
       "Time:                        11:54:42   Log-Likelihood:                -18907.\n",
       "converged:                       True   LL-Null:                       -25068.\n",
       "                                        LLR p-value:                     0.000\n",
       "========================================================================================================\n",
       "                                           coef    std err          z      P>|z|      [0.025      0.975]\n",
       "--------------------------------------------------------------------------------------------------------\n",
       "const                                   -2.6048      0.015   -171.288      0.000      -2.635      -2.575\n",
       "RevolvingUtilizationOfUnsecuredLines    -0.6089      0.015    -41.375      0.000      -0.638      -0.580\n",
       "age                                     -0.4618      0.033    -14.112      0.000      -0.526      -0.398\n",
       "NumberOfTime30-59DaysPastDueNotWorse    -0.5491      0.016    -34.648      0.000      -0.580      -0.518\n",
       "DebtRatio                               -0.6492      0.057    -11.300      0.000      -0.762      -0.537\n",
       "MonthlyIncome                           -0.2179      0.056     -3.864      0.000      -0.328      -0.107\n",
       "NumberOfOpenCreditLinesAndLoans         -0.2582      0.052     -4.930      0.000      -0.361      -0.156\n",
       "NumberOfTimes90DaysLate                 -0.5417      0.014    -38.246      0.000      -0.569      -0.514\n",
       "NumberOfTime60-89DaysPastDueNotWorse    -0.4081      0.017    -23.350      0.000      -0.442      -0.374\n",
       "========================================================================================================\n",
       "\"\"\""
      ]
     },
     "execution_count": 41,
     "metadata": {},
     "output_type": "execute_result"
    }
   ],
   "source": [
    "result.summary()"
   ]
  },
  {
   "cell_type": "markdown",
   "metadata": {},
   "source": [
    "# 模型检验"
   ]
  },
  {
   "cell_type": "code",
   "execution_count": 42,
   "metadata": {},
   "outputs": [],
   "source": [
    "vali_woe = pd.DataFrame(index=vali_data.index)"
   ]
  },
  {
   "cell_type": "code",
   "execution_count": 45,
   "metadata": {},
   "outputs": [],
   "source": [
    "for col in bins_values:\n",
    "    bins = bins_values[col]\n",
    "    labels = woe_values[col][\"woe\"]#训练集的woe\n",
    "    vali_woe[col] = pd.cut(vali_data[col], bins, labels=labels).astype(float)"
   ]
  },
  {
   "cell_type": "code",
   "execution_count": 46,
   "metadata": {},
   "outputs": [],
   "source": [
    "vali_woe[\"SeriousDlqin2yrs\"] = vali_data[\"SeriousDlqin2yrs\"]"
   ]
  },
  {
   "cell_type": "code",
   "execution_count": 47,
   "metadata": {},
   "outputs": [],
   "source": [
    "vali_Y = vali_woe['SeriousDlqin2yrs']\n",
    "vali_X = vali_woe.drop([\"SeriousDlqin2yrs\",\"NumberRealEstateLoansOrLines\",\"NumberOfDependents\"],axis=1)\n",
    "vali_exog = sm.add_constant(vali_X)\n",
    "vali_proba = result.predict(vali_exog)"
   ]
  },
  {
   "cell_type": "code",
   "execution_count": 48,
   "metadata": {},
   "outputs": [],
   "source": [
    "import scikitplot as skplt"
   ]
  },
  {
   "cell_type": "code",
   "execution_count": 49,
   "metadata": {},
   "outputs": [],
   "source": [
    "# 预测结果为对应 1 的概率，转换为数组用于绘图\n",
    "vali_proba_df = pd.DataFrame(vali_proba,columns=[1])\n",
    "vali_proba_df.insert(0,0,1-vali_proba_df)"
   ]
  },
  {
   "cell_type": "code",
   "execution_count": 50,
   "metadata": {},
   "outputs": [
    {
     "data": {
      "image/png": "[encoded data removed]",
      "text/plain": [
       "<Figure size 432x288 with 1 Axes>"
      ]
     },
     "metadata": {
      "needs_background": "light"
     },
     "output_type": "display_data"
    }
   ],
   "source": [
    "skplt.metrics.plot_roc(vali_Y,vali_proba_df,plot_micro=False,plot_macro=False);"
   ]
  },
  {
   "cell_type": "code",
   "execution_count": 51,
   "metadata": {},
   "outputs": [
    {
     "data": {
      "image/png": "[encoded data removed]",
      "text/plain": [
       "<Figure size 432x288 with 1 Axes>"
      ]
     },
     "metadata": {
      "needs_background": "light"
     },
     "output_type": "display_data"
    }
   ],
   "source": [
    "skplt.metrics.plot_precision_recall(vali_Y,vali_proba_df);"
   ]
  },
  {
   "cell_type": "markdown",
   "metadata": {},
   "source": [
    "# 信用评分"
   ]
  },
  {
   "cell_type": "markdown",
   "metadata": {},
   "source": [
    "例如：假定比率 Odds 为 1 : 60 时设定的特定分数为 600，PDO = 20 ，那么比率为 1 : 120 时的分\n",
    "数为 620，代入以上线性表达式，可得："
   ]
  },
  {
   "cell_type": "code",
   "execution_count": 65,
   "metadata": {},
   "outputs": [
    {
     "data": {
      "text/plain": [
       "(481.8621880878296, 28.85390081777927)"
      ]
     },
     "execution_count": 65,
     "metadata": {},
     "output_type": "execute_result"
    }
   ],
   "source": [
    "#自定义一个A、B值\n",
    "B = 20/np.log(2)\n",
    "A = 600 + B*np.log(1/60)\n",
    "A,B"
   ]
  },
  {
   "cell_type": "code",
   "execution_count": 69,
   "metadata": {},
   "outputs": [
    {
     "data": {
      "text/plain": [
       "const                                  -2.604756\n",
       "RevolvingUtilizationOfUnsecuredLines   -0.608890\n",
       "age                                    -0.461810\n",
       "NumberOfTime30-59DaysPastDueNotWorse   -0.549133\n",
       "DebtRatio                              -0.649192\n",
       "MonthlyIncome                          -0.217943\n",
       "NumberOfOpenCreditLinesAndLoans        -0.258234\n",
       "NumberOfTimes90DaysLate                -0.541736\n",
       "NumberOfTime60-89DaysPastDueNotWorse   -0.408109\n",
       "dtype: float64"
      ]
     },
     "execution_count": 69,
     "metadata": {},
     "output_type": "execute_result"
    }
   ],
   "source": [
    "result.params#系数都为负值的原因是所替换的值，woe越大越接近0"
   ]
  },
  {
   "cell_type": "code",
   "execution_count": 67,
   "metadata": {},
   "outputs": [
    {
     "data": {
      "text/plain": [
       "557.0195622201672"
      ]
     },
     "execution_count": 67,
     "metadata": {},
     "output_type": "execute_result"
    }
   ],
   "source": [
    "#计算出score中的基础分数A\n",
    "base_score = A - B*result.params[\"const\"]\n",
    "base_score"
   ]
  },
  {
   "cell_type": "code",
   "execution_count": 68,
   "metadata": {},
   "outputs": [],
   "source": [
    "# 将评分卡写入文件\n",
    "# 将评分卡写入文件\n",
    "file = \"ScoreData.csv\"\n",
    "with open(file,\"w\") as fdata:\n",
    "    fdata.write(f\"base_score,{base_score}\\n\")\n",
    "for col in result.params.index[1:]:\n",
    "    tmp = woe_values[col]\n",
    "    score = tmp[\"woe\"] * (-B * result.params[col])\n",
    "    \n",
    "    score.name = \"Score\"\n",
    "    score.index = [\n",
    "        (\"{:.2f}\".format(tmp.loc[x, \"min\"]),\n",
    "        \"{:.2f}\".format(tmp.loc[x, \"max\"])) for x in tmp.index]\n",
    "    score.index.name = col\n",
    "    score.to_csv(file,header=True,mode=\"a\")\n"
   ]
  },
  {
   "cell_type": "markdown",
   "metadata": {},
   "source": [
    "分箱的woe值一般是单调的，可以有一个拐点，但是不能有多个拐点"
   ]
  },
  {
   "cell_type": "code",
   "execution_count": 144,
   "metadata": {},
   "outputs": [
    {
     "data": {
      "text/plain": [
       "'Hello, my name is Eric'"
      ]
     },
     "execution_count": 144,
     "metadata": {},
     "output_type": "execute_result"
    }
   ],
   "source": [
    "name = 'Eric'\n",
    "f'Hello, my name is {name}'"
   ]
  },
  {
   "cell_type": "code",
   "execution_count": 142,
   "metadata": {},
   "outputs": [
    {
     "data": {
      "text/plain": [
       "'Hello, Eric.'"
      ]
     },
     "execution_count": 142,
     "metadata": {},
     "output_type": "execute_result"
    }
   ],
   "source": [
    "name = \"Eric\"\n",
    "\"Hello, %s.\" % name"
   ]
  },
  {
   "cell_type": "code",
   "execution_count": 141,
   "metadata": {},
   "outputs": [
    {
     "data": {
      "text/plain": [
       "'Hello, Eric. '"
      ]
     },
     "execution_count": 141,
     "metadata": {},
     "output_type": "execute_result"
    }
   ],
   "source": [
    "name = \"Eric\"\n",
    "\"Hello, {}. \".format(name)   "
   ]
  }
 ],
 "metadata": {
  "kernelspec": {
   "display_name": "Python 3",
   "language": "python",
   "name": "python3"
  },
  "language_info": {
   "codemirror_mode": {
    "name": "ipython",
    "version": 3
   },
   "file_extension": ".py",
   "mimetype": "text/x-python",
   "name": "python",
   "nbconvert_exporter": "python",
   "pygments_lexer": "ipython3",
   "version": "3.7.1"
  }
 },
 "nbformat": 4,
 "nbformat_minor": 2
}
