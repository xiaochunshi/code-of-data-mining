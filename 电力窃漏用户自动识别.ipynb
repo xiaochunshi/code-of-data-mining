{
 "cells": [
  {
   "cell_type": "markdown",
   "metadata": {},
   "source": [
    "# 电力窃漏电用户自动识别\n",
    "## 一、背景与挖掘目标\n",
    "- 通过用户用电数据信息提取出窃漏电用户的关键特征，构建窃漏电用户的识别模型，自动检查、判断用户是否存在窃漏电行为。  \n",
    "*数据挖掘建模目标如下：*\n",
    "\n",
    "- 归纳出窃漏电用户的关键特征，构建且漏电用户的识别模型。\n",
    "- 利用实时监测数据，调用窃漏电用户识别模型实现实时诊断\n"
   ]
  },
  {
   "cell_type": "markdown",
   "metadata": {},
   "source": [
    "## 二、电力行业为什么需要数据挖掘？\n",
    "|传统的检查方式|不合理之处|\n",
    "|:-------------------------------:|:--:|\n",
    "|定期巡检、定期检查电表、用户举报|对人的依赖太高，容错率低 。|\n",
    "|营销稽查人员、用电检查人员利用计量异常报警功能和电能量数据查询功能开展在线监控，采集异常信息，建立数据分析模型|由于终端误报，存在数据可靠性问题。|"
   ]
  },
  {
   "cell_type": "markdown",
   "metadata": {},
   "source": [
    "***因此，我们可以看出：***\n",
    "- 目前存在的分析模型，各输入指标权重是由人定的，这是含有主观臆断的，存在明显缺陷，实施效果不尽如人意。\n",
    "- 目前的自动化系统可以采集相关信息，通过这些信息提取漏电用户的特征，构建识别模型，就能做到自动检查。"
   ]
  },
  {
   "cell_type": "markdown",
   "metadata": {},
   "source": [
    "## 三、分析过程和方法\n",
    "\n",
    "### 1、数据获取\n",
    "从营销系统和计量自动化系统中抽取如下数据：    \n",
    "\n",
    "- 从营销系统抽取的数据\n",
    "    用户基本信息\n",
    "    违约、窃电处理记录\n",
    "    计量方法及依据\n",
    "- 从计量自动化系统采集的数据属性：\n",
    "    实时负荷\n",
    "    终端报警\n",
    "本案例抽取某市5年来所有用户的且漏电用户有关数据和不同用电类别正常用电用户共208个用户的有关数据，同时包含每天是否有窃漏电情况的标识。    "
   ]
  },
  {
   "cell_type": "markdown",
   "metadata": {},
   "source": [
    "###  2、数据探索\n",
    "- 分布分析（主要目的是筛选分析对象类别）\n",
    "查看用电类别切漏电情况，明确哪一些人群、领域窃漏电情况严重（大工业、非工业、居民、农业、商业等）。\n",
    "- 周期性分析（查看正常用户和非正常用户数据周期变化比对）\n",
    "正常用电量周期性用量平稳，没有太大波动；窃漏电用户用电量出现明显下降的趋势"
   ]
  },
  {
   "cell_type": "code",
   "execution_count": 1,
   "metadata": {},
   "outputs": [],
   "source": [
    "import pandas as pd\n",
    "import numpy as np\n",
    "import matplotlib.pyplot as plt\n",
    "from sklearn.metrics import confusion_matrix, roc_curve\n"
   ]
  },
  {
   "cell_type": "code",
   "execution_count": 28,
   "metadata": {},
   "outputs": [
    {
     "data": {
      "text/html": [
       "<div>\n",
       "<style scoped>\n",
       "    .dataframe tbody tr th:only-of-type {\n",
       "        vertical-align: middle;\n",
       "    }\n",
       "\n",
       "    .dataframe tbody tr th {\n",
       "        vertical-align: top;\n",
       "    }\n",
       "\n",
       "    .dataframe thead th {\n",
       "        text-align: right;\n",
       "    }\n",
       "</style>\n",
       "<table border=\"1\" class=\"dataframe\">\n",
       "  <thead>\n",
       "    <tr style=\"text-align: right;\">\n",
       "      <th></th>\n",
       "      <th>0</th>\n",
       "      <th>1</th>\n",
       "      <th>2</th>\n",
       "    </tr>\n",
       "  </thead>\n",
       "  <tbody>\n",
       "    <tr>\n",
       "      <th>0</th>\n",
       "      <td>235.8333</td>\n",
       "      <td>324.0343</td>\n",
       "      <td>478.3231</td>\n",
       "    </tr>\n",
       "    <tr>\n",
       "      <th>1</th>\n",
       "      <td>236.2708</td>\n",
       "      <td>325.6379</td>\n",
       "      <td>515.4564</td>\n",
       "    </tr>\n",
       "    <tr>\n",
       "      <th>2</th>\n",
       "      <td>238.0521</td>\n",
       "      <td>328.0897</td>\n",
       "      <td>517.0909</td>\n",
       "    </tr>\n",
       "    <tr>\n",
       "      <th>3</th>\n",
       "      <td>235.9063</td>\n",
       "      <td>NaN</td>\n",
       "      <td>514.8900</td>\n",
       "    </tr>\n",
       "    <tr>\n",
       "      <th>4</th>\n",
       "      <td>236.7604</td>\n",
       "      <td>268.8324</td>\n",
       "      <td>NaN</td>\n",
       "    </tr>\n",
       "  </tbody>\n",
       "</table>\n",
       "</div>"
      ],
      "text/plain": [
       "          0         1         2\n",
       "0  235.8333  324.0343  478.3231\n",
       "1  236.2708  325.6379  515.4564\n",
       "2  238.0521  328.0897  517.0909\n",
       "3  235.9063       NaN  514.8900\n",
       "4  236.7604  268.8324       NaN"
      ]
     },
     "execution_count": 28,
     "metadata": {},
     "output_type": "execute_result"
    }
   ],
   "source": [
    "df=pd.read_excel('Electric-missing_data.xls',header=None)\n",
    "df.head()"
   ]
  },
  {
   "cell_type": "code",
   "execution_count": 29,
   "metadata": {},
   "outputs": [
    {
     "name": "stdout",
     "output_type": "stream",
     "text": [
      "<class 'pandas.core.frame.DataFrame'>\n",
      "RangeIndex: 21 entries, 0 to 20\n",
      "Data columns (total 3 columns):\n",
      "0    19 non-null float64\n",
      "1    17 non-null float64\n",
      "2    17 non-null float64\n",
      "dtypes: float64(3)\n",
      "memory usage: 584.0 bytes\n"
     ]
    }
   ],
   "source": [
    "df.info()"
   ]
  },
  {
   "cell_type": "markdown",
   "metadata": {},
   "source": [
    "### 3、数据预处理\n",
    "- 过滤不可能窃电用户，剔除之\n",
    "- 过滤特殊时间点数据（节假日，数据不合理是正常的）\n",
    "- 缺失值处理，使用拉格朗日插值法插值（注意，这里直接删除会造成周期性分析不合理）"
   ]
  },
  {
   "cell_type": "markdown",
   "metadata": {},
   "source": [
    "拉格朗日插值法：  \n",
    "确定因变量、自变量；取出缺失值前后5个数据，去除空值，取10个数据组成一组。采用拉格朗日插值公式"
   ]
  },
  {
   "cell_type": "code",
   "execution_count": 32,
   "metadata": {},
   "outputs": [
    {
     "name": "stderr",
     "output_type": "stream",
     "text": [
      "D:\\Anaconda3\\lib\\site-packages\\pandas\\core\\series.py:842: FutureWarning: \n",
      "Passing list-likes to .loc or [] with any missing label will raise\n",
      "KeyError in the future, you can use .reindex() as an alternative.\n",
      "\n",
      "See the documentation here:\n",
      "https://pandas.pydata.org/pandas-docs/stable/indexing.html#deprecate-loc-reindex-listlike\n",
      "  return self.loc[key]\n"
     ]
    }
   ],
   "source": [
    "from scipy.interpolate import lagrange\n",
    "#此处缺失较少，且数据集不大，使用拉格朗日插值法进行填充\n",
    "def missing_fill(col,n,k=5):\n",
    "    y=col[list(range(n-k,n))+list(range(n+1,n+1+k))]#取出前后五个值\n",
    "    y=y[y.notnull()]#去除空值\n",
    "    return lagrange(y.index,list(y))(n)\n",
    "            #传入该列数据，获取该列非空前后10个数据； \n",
    "            #lagrange(x,w) x数据点的x轴，传入的是数据的下标索引；w是传入的数据。\n",
    "#找出空值用定义的函数来替换\n",
    "for i in df.columns:\n",
    "    for j in range(len(df)):#返回ture or false 来判断是否执行\n",
    "        if df[i].isnull()[j]:#如果是空值就用拉格郎日插值法处理\n",
    "            df[i][j]=missing_fill(df[i],j,k=5)"
   ]
  },
  {
   "cell_type": "code",
   "execution_count": 34,
   "metadata": {},
   "outputs": [
    {
     "name": "stdout",
     "output_type": "stream",
     "text": [
      "<class 'pandas.core.frame.DataFrame'>\n",
      "RangeIndex: 21 entries, 0 to 20\n",
      "Data columns (total 3 columns):\n",
      "0    21 non-null float64\n",
      "1    21 non-null float64\n",
      "2    21 non-null float64\n",
      "dtypes: float64(3)\n",
      "memory usage: 584.0 bytes\n"
     ]
    }
   ],
   "source": [
    "df.info()"
   ]
  },
  {
   "cell_type": "code",
   "execution_count": 35,
   "metadata": {},
   "outputs": [],
   "source": [
    "df.to_excel('missing_data_fill.xls', header=None, index=False)"
   ]
  },
  {
   "cell_type": "markdown",
   "metadata": {},
   "source": [
    "### 4、数据的变换：\n",
    "基于系统采集到的一些数据，来重新构造，进行数据变换得到新的评价指标来表征窃漏电行为所具有的规律。形成窃漏电评价指标体系。\n",
    "电量趋势下降指标：用电趋势的浮动情况，电量趋势不断下降，则认为具有窃电嫌疑    \n",
    "线损指标：线损增长率的变化，若发生窃漏电，线损率会上升。  \n",
    "告警类指标：电压缺相，电流反极性等与窃漏相关的终端报警数。 \n",
    "### 5、构建专家样本\n",
    "所有窃漏电用户和正常用户的电量、告警及线损数据和该用户在当天是否标识。按窃漏电评价指标体系进行处理，选取样本，得到专家样本库。   \n",
    "时间–用户编号–电量趋势下降指标–线损指标–告警类指标–是否窃漏电    "
   ]
  },
  {
   "cell_type": "code",
   "execution_count": 36,
   "metadata": {},
   "outputs": [
    {
     "data": {
      "text/html": [
       "<div>\n",
       "<style scoped>\n",
       "    .dataframe tbody tr th:only-of-type {\n",
       "        vertical-align: middle;\n",
       "    }\n",
       "\n",
       "    .dataframe tbody tr th {\n",
       "        vertical-align: top;\n",
       "    }\n",
       "\n",
       "    .dataframe thead th {\n",
       "        text-align: right;\n",
       "    }\n",
       "</style>\n",
       "<table border=\"1\" class=\"dataframe\">\n",
       "  <thead>\n",
       "    <tr style=\"text-align: right;\">\n",
       "      <th></th>\n",
       "      <th>电量趋势下降指标</th>\n",
       "      <th>线损指标</th>\n",
       "      <th>告警类指标</th>\n",
       "      <th>是否窃漏电</th>\n",
       "    </tr>\n",
       "  </thead>\n",
       "  <tbody>\n",
       "    <tr>\n",
       "      <th>0</th>\n",
       "      <td>4</td>\n",
       "      <td>1</td>\n",
       "      <td>1</td>\n",
       "      <td>1</td>\n",
       "    </tr>\n",
       "    <tr>\n",
       "      <th>1</th>\n",
       "      <td>4</td>\n",
       "      <td>0</td>\n",
       "      <td>4</td>\n",
       "      <td>1</td>\n",
       "    </tr>\n",
       "    <tr>\n",
       "      <th>2</th>\n",
       "      <td>2</td>\n",
       "      <td>1</td>\n",
       "      <td>1</td>\n",
       "      <td>1</td>\n",
       "    </tr>\n",
       "    <tr>\n",
       "      <th>3</th>\n",
       "      <td>9</td>\n",
       "      <td>0</td>\n",
       "      <td>0</td>\n",
       "      <td>0</td>\n",
       "    </tr>\n",
       "    <tr>\n",
       "      <th>4</th>\n",
       "      <td>3</td>\n",
       "      <td>1</td>\n",
       "      <td>0</td>\n",
       "      <td>0</td>\n",
       "    </tr>\n",
       "  </tbody>\n",
       "</table>\n",
       "</div>"
      ],
      "text/plain": [
       "   电量趋势下降指标  线损指标  告警类指标  是否窃漏电\n",
       "0         4     1      1      1\n",
       "1         4     0      4      1\n",
       "2         2     1      1      1\n",
       "3         9     0      0      0\n",
       "4         3     1      0      0"
      ]
     },
     "execution_count": 36,
     "metadata": {},
     "output_type": "execute_result"
    }
   ],
   "source": [
    "data=pd.read_excel('Electric.xls')\n",
    "data.head()"
   ]
  },
  {
   "cell_type": "code",
   "execution_count": 37,
   "metadata": {},
   "outputs": [
    {
     "name": "stdout",
     "output_type": "stream",
     "text": [
      "<class 'pandas.core.frame.DataFrame'>\n",
      "RangeIndex: 291 entries, 0 to 290\n",
      "Data columns (total 4 columns):\n",
      "电量趋势下降指标    291 non-null int64\n",
      "线损指标        291 non-null int64\n",
      "告警类指标       291 non-null int64\n",
      "是否窃漏电       291 non-null int64\n",
      "dtypes: int64(4)\n",
      "memory usage: 9.2 KB\n"
     ]
    }
   ],
   "source": [
    "data.info()"
   ]
  },
  {
   "cell_type": "code",
   "execution_count": 55,
   "metadata": {},
   "outputs": [
    {
     "data": {
      "text/plain": [
       "0    251\n",
       "1     40\n",
       "Name: 是否窃漏电, dtype: int64"
      ]
     },
     "execution_count": 55,
     "metadata": {},
     "output_type": "execute_result"
    }
   ],
   "source": [
    "data.是否窃漏电.value_counts()"
   ]
  },
  {
   "cell_type": "markdown",
   "metadata": {},
   "source": [
    "## 三、数据挖掘建模\n",
    "数据划分–80%训练集，20%测试集  \n",
    "- 典型的给出特征和分类标签，对新的数据特征进行分类（打标签）\n",
    "- 使用CART决策树进行模型搭建\n",
    "- 后续处理\n",
    "- 根据用户数据实时分析用户特征，也就是模型的实际使用。"
   ]
  },
  {
   "cell_type": "code",
   "execution_count": 114,
   "metadata": {},
   "outputs": [],
   "source": [
    "from sklearn.model_selection import train_test_split\n",
    "y=data.iloc[:,-1]\n",
    "X=data.iloc[:,0:-1]\n",
    "X_train, X_test, y_train, y_test = train_test_split(X, y, test_size=0.2,random_state=30)"
   ]
  },
  {
   "cell_type": "markdown",
   "metadata": {},
   "source": [
    "**使用CART决策树进行预测**"
   ]
  },
  {
   "cell_type": "code",
   "execution_count": 115,
   "metadata": {},
   "outputs": [
    {
     "data": {
      "text/plain": [
       "DecisionTreeClassifier(class_weight=None, criterion='gini', max_depth=None,\n",
       "            max_features=None, max_leaf_nodes=None,\n",
       "            min_impurity_decrease=0.0, min_impurity_split=None,\n",
       "            min_samples_leaf=1, min_samples_split=2,\n",
       "            min_weight_fraction_leaf=0.0, presort=False, random_state=None,\n",
       "            splitter='best')"
      ]
     },
     "execution_count": 115,
     "metadata": {},
     "output_type": "execute_result"
    }
   ],
   "source": [
    "from sklearn.tree import DecisionTreeClassifier\n",
    "clf = DecisionTreeClassifier()\n",
    "# 使用scikit-learn的决策树分类模型.\n",
    "#criterion: 属性选择算法,默认:\"gini\"表示基尼不纯度,可用\"entropy\"表示信息熵\n",
    "#splitter:结点选择属性的策略,默认\"best\"\n",
    "clf.fit(X_train,y_train)"
   ]
  },
  {
   "cell_type": "code",
   "execution_count": 164,
   "metadata": {
    "collapsed": true
   },
   "outputs": [
    {
     "name": "stdout",
     "output_type": "stream",
     "text": [
      "feature_importance:[0.50052291 0.29691719 0.2025599 ]\n",
      "Tree Structure:\n",
      "number of node: 47\n",
      "each node's left children id: [ 1  2  3  4  5 -1  7  8 -1 10 11 -1 -1 -1 -1 16 -1 -1 19 -1 21 22 -1 -1\n",
      " 25 -1 -1 28 -1 -1 31 32 -1 34 35 -1 -1 -1 39 40 -1 -1 43 44 -1 -1 -1]\n",
      "node's corresponding feature: [ 0  2  0  2  0 -2  0  1 -2  2  2 -2 -2 -2 -2  0 -2 -2  2 -2  1  2 -2 -2\n",
      "  2 -2 -2  1 -2 -2  1  2 -2  0  2 -2 -2 -2  2  0 -2 -2  0  2 -2 -2 -2]\n",
      "node's corresponding spliting value: \n",
      "[[ 4.5]\n",
      " [ 3.5]\n",
      " [ 3.5]\n",
      " [ 2.5]\n",
      " [ 1.5]\n",
      " [-2. ]\n",
      " [ 2.5]\n",
      " [ 0.5]\n",
      " [-2. ]\n",
      " [ 1.5]\n",
      " [ 0.5]\n",
      " [-2. ]\n",
      " [-2. ]\n",
      " [-2. ]\n",
      " [-2. ]\n",
      " [ 2. ]\n",
      " [-2. ]\n",
      " [-2. ]\n",
      " [ 0.5]\n",
      " [-2. ]\n",
      " [ 0.5]\n",
      " [ 1.5]\n",
      " [-2. ]\n",
      " [-2. ]\n",
      " [ 1.5]\n",
      " [-2. ]\n",
      " [-2. ]\n",
      " [ 0.5]\n",
      " [-2. ]\n",
      " [-2. ]\n",
      " [ 0.5]\n",
      " [ 1.5]\n",
      " [-2. ]\n",
      " [ 7. ]\n",
      " [ 2.5]\n",
      " [-2. ]\n",
      " [-2. ]\n",
      " [-2. ]\n",
      " [ 0.5]\n",
      " [ 6.5]\n",
      " [-2. ]\n",
      " [-2. ]\n",
      " [ 5.5]\n",
      " [ 1.5]\n",
      " [-2. ]\n",
      " [-2. ]\n",
      " [-2. ]]\n"
     ]
    }
   ],
   "source": [
    "print(f\"feature_importance:{clf.feature_importances_}\")\n",
    "# 查看属性重要性\n",
    "print(f\"\"\"Tree Structure:\n",
    "number of node: {clf.tree_.node_count}\n",
    "each node's left children id: {clf.tree_.children_left}\n",
    "node's corresponding feature: {clf.tree_.feature}\n",
    "node's corresponding spliting value: \n",
    "{clf.tree_.threshold.reshape(-1,1)}\"\"\")\n",
    "# 从上到下依次查看:节点个数,每个节点左节点对应id\n",
    "# 每个节点对应属性索引,每个节点的分割值"
   ]
  },
  {
   "cell_type": "code",
   "execution_count": 116,
   "metadata": {},
   "outputs": [
    {
     "name": "stdout",
     "output_type": "stream",
     "text": [
      "train score: 0.9439655172413793\n",
      "test score: 0.9322033898305084\n"
     ]
    }
   ],
   "source": [
    "print(f\"train score: {clf.score(X_train,y_train)}\")\n",
    "print(f\"test score: {clf.score(X_test,y_test)}\")\n",
    "# 打印训练集和测试集的分数"
   ]
  },
  {
   "cell_type": "markdown",
   "metadata": {},
   "source": [
    "### 模型调优\n",
    "模型有些过拟合，剪枝调优"
   ]
  },
  {
   "cell_type": "code",
   "execution_count": 156,
   "metadata": {},
   "outputs": [
    {
     "name": "stdout",
     "output_type": "stream",
     "text": [
      "best params: {'max_depth': 3, 'min_impurity_decrease': 0.006, 'min_samples_leaf': 2, 'min_samples_split': 24}\n",
      "best score: 0.9137681159420289\n",
      "train score: 0.9224137931034483\n",
      "test score: 0.9491525423728814\n"
     ]
    }
   ],
   "source": [
    "from sklearn.model_selection import cross_val_score\n",
    "# 加载交叉验证的函数\n",
    "from sklearn.model_selection import GridSearchCV\n",
    "# 加载调优函数\n",
    "gini_impure = np.linspace(0.006,0.012,25)\n",
    "# 设置参数可取值\n",
    "param_grid = {\"min_impurity_decrease\":gini_impure#限制信息增益的大小\n",
    "              ,\"max_depth\":range(3,7)#限制树的最大深度，超过设定深度的树枝全部剪掉\n",
    "              ,\"min_samples_leaf\":range(2,5,1)\n",
    "              ,\"min_samples_split\":range(4,30,1)}\n",
    "#min_samples_leaf一个节点在分枝后的每个子节点都必须包含训练样本数，否则分枝就不会发生\n",
    "#min_samples_split限定，一个节点必须要包含至少min_samples_split个训练样本\n",
    "#criterion=\"entropy\"，用信息熵来代替gini,其实是ID3算法\n",
    "\n",
    "# 设置参数网格\n",
    "reg = GridSearchCV(DecisionTreeClassifier(),param_grid,cv=5,iid=False)\n",
    "# 建模\n",
    "reg.fit(X_train,y_train)\n",
    "# 拟合训练集数据\n",
    "print(f\"best params: {reg.best_params_}\")\n",
    "print(f\"best score: {reg.best_score_}\")\n",
    "print(f\"train score: {reg.score(X_train,y_train)}\")\n",
    "print(f\"test score: {reg.score(X_test,y_test)}\")\n",
    "# 打印结果"
   ]
  },
  {
   "cell_type": "code",
   "execution_count": null,
   "metadata": {},
   "outputs": [],
   "source": [
    "from sklearn import tree\n",
    "import graphviz\n",
    "dot = tree.export_graphviz(reg,out_file=None\n",
    "                           #,feature_names=data.columns,\n",
    "                          #,class_names=['有窃漏','无窃漏'],\n",
    "                          ,filled=True,rounded=True)\n",
    "# 生成一个DOT格式的决策树\n",
    "graph = graphviz.Source(dot)\n",
    "# 使用graphviz逐字渲染dot对象\n",
    "graph.render(\"Electric\")\n",
    "# 在当前工作路径输出pdf的文件\n",
    "graph\n",
    "# 显示图形"
   ]
  },
  {
   "cell_type": "code",
   "execution_count": 171,
   "metadata": {},
   "outputs": [
    {
     "data": {
      "text/plain": [
       "['Electric']"
      ]
     },
     "execution_count": 171,
     "metadata": {},
     "output_type": "execute_result"
    }
   ],
   "source": [
    "from sklearn.externals import joblib\n",
    "joblib.dump(reg, 'Electric')#保存模型"
   ]
  },
  {
   "cell_type": "markdown",
   "metadata": {},
   "source": [
    "## 四、模型评估\n",
    "评估模型分类的性能，利用测试样本对模型进行评价，采用ROC曲线评价方法进行评估。 \n",
    "分类器越优秀，其ROC曲线应该尽可能的靠近左上角！"
   ]
  },
  {
   "cell_type": "code",
   "execution_count": 172,
   "metadata": {},
   "outputs": [],
   "source": [
    "# 编写的混淆矩阵的可视化函数 \n",
    "#y：测试集实际的类别  yp：测试集的测试结果\n",
    "def cm_plot(y, yp): \n",
    "    from sklearn.metrics import confusion_matrix  # 导入混淆矩阵函数\n",
    "    cm = confusion_matrix(y, yp)  # 混淆矩阵\n",
    "    \n",
    "    plt.matshow(cm, cmap=plt.cm.Greens)#画混淆矩阵图，配色使用cm.Greens。\n",
    "    plt.colorbar()  # 颜色标签\n",
    "    for x in range(len(cm)):  # 数据标签\n",
    "        for y in range(len(cm)):\n",
    "            plt.annotate(cm[x, y], xy=(x, y), horizontalalignment='center', verticalalignment='center')\n",
    "\n",
    "    plt.ylabel('True label')  # 坐标轴标签\n",
    "    plt.xlabel('Predicted label')  # 坐标轴标签\n",
    "    return plt\n",
    "#X_train, X_test, y_train, y_test"
   ]
  },
  {
   "cell_type": "code",
   "execution_count": 175,
   "metadata": {},
   "outputs": [
    {
     "data": {
      "image/png": "[encoded data removed]",
      "text/plain": [
       "<Figure size 288x288 with 2 Axes>"
      ]
     },
     "metadata": {
      "needs_background": "light"
     },
     "output_type": "display_data"
    }
   ],
   "source": [
    "cm_plot(y_test, reg.predict(X_test)).show()"
   ]
  },
  {
   "cell_type": "code",
   "execution_count": 177,
   "metadata": {},
   "outputs": [
    {
     "data": {
      "image/png": "[encoded data removed]",
      "text/plain": [
       "<Figure size 432x288 with 1 Axes>"
      ]
     },
     "metadata": {
      "needs_background": "light"
     },
     "output_type": "display_data"
    }
   ],
   "source": [
    "from sklearn.metrics import roc_curve  # 导入ROC曲线函数\n",
    "fpr, tpr, thresholds = roc_curve(y_test, reg.predict_proba(X_test)[:, 1], pos_label=1)\n",
    "plt.plot(fpr, tpr, linewidth=2, label='ROC of CART', color='green')  # 作出ROC曲线\n",
    "plt.xlabel('False Positive Rate')  # 坐标轴标签\n",
    "plt.ylabel('True Positive Rate')  # 坐标轴标签\n",
    "plt.ylim(0, 1.05)  # 边界范围\n",
    "plt.xlim(0, 1.05)  # 边界范围\n",
    "plt.legend(loc=4)  # 图例\n",
    "plt.show()  # 显示作图结果"
   ]
  }
 ],
 "metadata": {
  "kernelspec": {
   "display_name": "Python 3",
   "language": "python",
   "name": "python3"
  },
  "language_info": {
   "codemirror_mode": {
    "name": "ipython",
    "version": 3
   },
   "file_extension": ".py",
   "mimetype": "text/x-python",
   "name": "python",
   "nbconvert_exporter": "python",
   "pygments_lexer": "ipython3",
   "version": "3.7.1"
  }
 },
 "nbformat": 4,
 "nbformat_minor": 2
}
